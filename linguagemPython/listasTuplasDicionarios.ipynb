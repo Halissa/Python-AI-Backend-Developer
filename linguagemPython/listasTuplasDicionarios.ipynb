{
 "cells": [
  {
   "cell_type": "markdown",
   "metadata": {},
   "source": [
    "### Listas, tuplas, conjuntos e dicionarios:"
   ]
  },
  {
   "cell_type": "markdown",
   "metadata": {},
   "source": [
    "#### Listas:"
   ]
  },
  {
   "cell_type": "code",
   "execution_count": 1,
   "metadata": {},
   "outputs": [
    {
     "name": "stdout",
     "output_type": "stream",
     "text": [
      "['maça', 'laranja', 'uva']\n",
      "['p', 'y', 't', 'h', 'o', 'n']\n",
      "['maça', 'laranja', 1, 5.6, 'uva']\n"
     ]
    }
   ],
   "source": [
    "# Criação de listas\n",
    "lista1 = list()\n",
    "lista2 = []\n",
    "\n",
    "# Exemplo de listas preenchidos\n",
    "frutas = ['maça', 'laranja', 'uva']\n",
    "letras = list('python')\n",
    "variados = ['maça', 'laranja', 1, 5.6,'uva']\n",
    "\n",
    "print(frutas)\n",
    "print(letras)\n",
    "print(variados)"
   ]
  },
  {
   "cell_type": "markdown",
   "metadata": {},
   "source": [
    "##### Manipulação 01:"
   ]
  },
  {
   "cell_type": "markdown",
   "metadata": {},
   "source": [
    "* Acesso Direto:"
   ]
  },
  {
   "cell_type": "code",
   "execution_count": 3,
   "metadata": {},
   "outputs": [
    {
     "name": "stdout",
     "output_type": "stream",
     "text": [
      "indice 0: maça\n",
      "indice 1: laranja\n",
      "indice 2: uva\n"
     ]
    }
   ],
   "source": [
    "# Acessando dados de uma lista pelo posição:\n",
    "frutas = ['maça', 'laranja', 'uva']\n",
    "\n",
    "# A primeira posição é sempre 0:\n",
    "print(f'indice 0: {frutas[0]}')\n",
    "print(f'indice 1: {frutas[1]}')\n",
    "print(f'indice 2: {frutas[2]}')"
   ]
  },
  {
   "cell_type": "markdown",
   "metadata": {},
   "source": [
    "* Índices Negativos:"
   ]
  },
  {
   "cell_type": "code",
   "execution_count": 4,
   "metadata": {},
   "outputs": [
    {
     "name": "stdout",
     "output_type": "stream",
     "text": [
      "indice -1: pera\n",
      "indice -2: uva\n",
      "indice -3: laranja\n",
      "indice -4: maça\n"
     ]
    }
   ],
   "source": [
    "# A última posição é sempre -1 a antepenultima -2, assim sucessivamente: \n",
    "frutas = ['maça', 'laranja', 'uva', 'pera']\n",
    "\n",
    "print(f'indice -1: {frutas[-1]}')\n",
    "print(f'indice -2: {frutas[-2]}')\n",
    "print(f'indice -3: {frutas[-3]}')\n",
    "print(f'indice -4: {frutas[-4]}')"
   ]
  },
  {
   "cell_type": "markdown",
   "metadata": {},
   "source": [
    "* Listas aninhadas (ex: matrizes)"
   ]
  },
  {
   "cell_type": "code",
   "execution_count": 9,
   "metadata": {},
   "outputs": [
    {
     "name": "stdout",
     "output_type": "stream",
     "text": [
      "[1, 'a', 2]\n",
      "['b', 3, 4]\n",
      "[6, 5, 'c']\n",
      "\n",
      "1 a 2 \n",
      "b 3 4 \n",
      "6 5 c "
     ]
    }
   ],
   "source": [
    "matriz = [\n",
    "    [1,'a',2],\n",
    "    ['b',3,4],\n",
    "    [6,5,'c']\n",
    "]\n",
    "# visualizando as listas dentro da matriz\n",
    "print(matriz[0])\n",
    "print(matriz[1])\n",
    "print(matriz[2])\n",
    "\n",
    "# Visualizando indice por indice de uma matriz:\n",
    "print(f'\\n{matriz[0][0]}', end=' ')\n",
    "print(f'{matriz[0][1]}', end=' ')\n",
    "print(f'{matriz[0][2]}', end=' ')\n",
    "\n",
    "print(f'\\n{matriz[1][0]}', end=' ')\n",
    "print(f'{matriz[1][1]}', end=' ')\n",
    "print(f'{matriz[1][2]}', end=' ')\n",
    "\n",
    "print(f'\\n{matriz[2][0]}', end=' ')\n",
    "print(f'{matriz[2][1]}', end=' ')\n",
    "print(f'{matriz[2][2]}', end=' ')"
   ]
  },
  {
   "cell_type": "markdown",
   "metadata": {},
   "source": [
    "* Fatiamento"
   ]
  },
  {
   "cell_type": "code",
   "execution_count": 15,
   "metadata": {},
   "outputs": [],
   "source": [
    "letras = list('python')"
   ]
  },
  {
   "cell_type": "code",
   "execution_count": 16,
   "metadata": {},
   "outputs": [
    {
     "data": {
      "text/plain": [
       "['t', 'h', 'o', 'n']"
      ]
     },
     "execution_count": 16,
     "metadata": {},
     "output_type": "execute_result"
    }
   ],
   "source": [
    "# Selecionar do terceiro elemento em diante\n",
    "letras[2:]"
   ]
  },
  {
   "cell_type": "code",
   "execution_count": 17,
   "metadata": {},
   "outputs": [
    {
     "data": {
      "text/plain": [
       "['p', 'y']"
      ]
     },
     "execution_count": 17,
     "metadata": {},
     "output_type": "execute_result"
    }
   ],
   "source": [
    "# Selecionar do começo até o terceiro elemento\n",
    "letras[:2]"
   ]
  },
  {
   "cell_type": "code",
   "execution_count": 18,
   "metadata": {},
   "outputs": [
    {
     "data": {
      "text/plain": [
       "['y', 't']"
      ]
     },
     "execution_count": 18,
     "metadata": {},
     "output_type": "execute_result"
    }
   ],
   "source": [
    "# Selecionar do segundo elemento até terceiro\n",
    "letras[1:3]"
   ]
  },
  {
   "cell_type": "code",
   "execution_count": 19,
   "metadata": {},
   "outputs": [
    {
     "data": {
      "text/plain": [
       "['p', 'y', 't', 'h', 'o', 'n']"
      ]
     },
     "execution_count": 19,
     "metadata": {},
     "output_type": "execute_result"
    }
   ],
   "source": [
    "# Visualizar toda a lista\n",
    "letras[::]"
   ]
  },
  {
   "cell_type": "code",
   "execution_count": 20,
   "metadata": {},
   "outputs": [
    {
     "data": {
      "text/plain": [
       "['n', 'o', 'h', 't', 'y', 'p']"
      ]
     },
     "execution_count": 20,
     "metadata": {},
     "output_type": "execute_result"
    }
   ],
   "source": [
    "# Visualizar toda a lista invertida\n",
    "letras[::-1]"
   ]
  },
  {
   "cell_type": "markdown",
   "metadata": {},
   "source": [
    "* Iterar (percorrer) listas"
   ]
  },
  {
   "cell_type": "code",
   "execution_count": 21,
   "metadata": {},
   "outputs": [
    {
     "name": "stdout",
     "output_type": "stream",
     "text": [
      "1\n",
      "2\n",
      "3\n"
     ]
    }
   ],
   "source": [
    "lista_de_nums = [1, 2, 3]\n",
    "\n",
    "for num in lista_de_nums:\n",
    "    print(num)"
   ]
  },
  {
   "cell_type": "markdown",
   "metadata": {},
   "source": [
    "* Descobrindo índice de objetos a partir de enumerate"
   ]
  },
  {
   "cell_type": "code",
   "execution_count": 1,
   "metadata": {},
   "outputs": [
    {
     "name": "stdout",
     "output_type": "stream",
     "text": [
      "indice 0: 1\n",
      "indice 1: 2\n",
      "indice 2: 3\n"
     ]
    }
   ],
   "source": [
    "lista_de_nums = [1, 2, 3]\n",
    "\n",
    "for indice, num in enumerate(lista_de_nums):\n",
    "    print(f'indice {indice}: {num}')"
   ]
  },
  {
   "cell_type": "markdown",
   "metadata": {},
   "source": [
    "##### Manipulação 02 (filtro)"
   ]
  },
  {
   "cell_type": "markdown",
   "metadata": {},
   "source": [
    "* Filtrar listas"
   ]
  },
  {
   "cell_type": "code",
   "execution_count": 3,
   "metadata": {},
   "outputs": [
    {
     "name": "stdout",
     "output_type": "stream",
     "text": [
      "[30, 2, 34]\n"
     ]
    }
   ],
   "source": [
    "# Versão 1 filtro para números pares\n",
    "numeros = [1, 30, 21, 2, 9, 65, 34]\n",
    "pares = []\n",
    "\n",
    "for numero in numeros:\n",
    "    if numero % 2 == 0:\n",
    "        pares.append(numero)\n",
    "\n",
    "print(pares)"
   ]
  },
  {
   "cell_type": "code",
   "execution_count": 4,
   "metadata": {},
   "outputs": [
    {
     "name": "stdout",
     "output_type": "stream",
     "text": [
      "[30, 2, 34]\n"
     ]
    }
   ],
   "source": [
    "# Versão 2 filtro para números pares\n",
    "numeros = [1, 30, 21, 2, 9, 65, 34]\n",
    "\n",
    "# lista filtrada = [valor para valor em lista se (condicao)]\n",
    "pares = [numero for numero in numeros if numero % 2 == 0]\n",
    "\n",
    "print(pares)"
   ]
  },
  {
   "cell_type": "markdown",
   "metadata": {},
   "source": [
    "* Modificar todos os valores de uma lista de uma única vez"
   ]
  },
  {
   "cell_type": "code",
   "execution_count": 5,
   "metadata": {},
   "outputs": [
    {
     "name": "stdout",
     "output_type": "stream",
     "text": [
      "[1, 900, 441, 4, 81, 4225, 1156]\n"
     ]
    }
   ],
   "source": [
    "# Versão 1 Elevar todos os valores ao quadrado\n",
    "numeros = [1, 30, 21, 2, 9, 65, 34]\n",
    "quadrado = []\n",
    "\n",
    "for numero in numeros:\n",
    "    quadrado.append(numero ** 2)\n",
    "\n",
    "print(quadrado)"
   ]
  },
  {
   "cell_type": "code",
   "execution_count": 7,
   "metadata": {},
   "outputs": [
    {
     "name": "stdout",
     "output_type": "stream",
     "text": [
      "[1, 900, 441, 4, 81, 4225, 1156]\n"
     ]
    }
   ],
   "source": [
    "# Versão 2 \n",
    "numeros = [1, 30, 21, 2, 9, 65, 34]\n",
    "\n",
    "# lista alterada = [(modificação) para valor em lista]\n",
    "quadrado = [numero ** 2 for numero in numeros]\n",
    "\n",
    "print(quadrado)"
   ]
  },
  {
   "cell_type": "markdown",
   "metadata": {},
   "source": [
    "##### Metodos da classe list:"
   ]
  },
  {
   "cell_type": "markdown",
   "metadata": {},
   "source": [
    "* .append(): Serve para incluir valores em listas já existentes: "
   ]
  },
  {
   "cell_type": "code",
   "execution_count": 9,
   "metadata": {},
   "outputs": [
    {
     "name": "stdout",
     "output_type": "stream",
     "text": [
      "[1, 2, 3, 4, 'texto', 5]\n"
     ]
    }
   ],
   "source": [
    "lista = [1, 2, 3]\n",
    "\n",
    "lista.append(4)\n",
    "lista.append('texto')\n",
    "lista.append(5)\n",
    "\n",
    "print(lista)"
   ]
  },
  {
   "cell_type": "markdown",
   "metadata": {},
   "source": [
    "* insert(): Inserir um elemento em uma posição pré determinada"
   ]
  },
  {
   "cell_type": "code",
   "execution_count": 26,
   "metadata": {},
   "outputs": [
    {
     "name": "stdout",
     "output_type": "stream",
     "text": [
      "[1, 'novo_item', 2, 3]\n"
     ]
    }
   ],
   "source": [
    "lista = [1, 2, 3]\n",
    "\n",
    "lista.insert(1, 'novo_item')\n",
    "\n",
    "print(lista)"
   ]
  },
  {
   "cell_type": "markdown",
   "metadata": {},
   "source": [
    "* .clear(): Serve para excluir o conteudo de uma lista:"
   ]
  },
  {
   "cell_type": "code",
   "execution_count": 10,
   "metadata": {},
   "outputs": [
    {
     "name": "stdout",
     "output_type": "stream",
     "text": [
      "[]\n"
     ]
    }
   ],
   "source": [
    "lista = [1, 2, 3, 4, 'texto', 5]\n",
    "\n",
    "lista.clear()\n",
    "\n",
    "print(lista)"
   ]
  },
  {
   "cell_type": "markdown",
   "metadata": {},
   "source": [
    "* .copy(): Serve para copiar o conteudo de uma lista:\n",
    "\n",
    "!!! IMPORTANTE: Se passarmos uma lista para outra, por se tratar de um objeto, estamos passando o endereço da memória do original e não uma cópia. Então as alterações feita em uma das duas listas refletem em ambas. Por este motivo se queremos apenas os valores e não o endereço da memória precisamos utilizar o .copy()\n"
   ]
  },
  {
   "cell_type": "code",
   "execution_count": 13,
   "metadata": {},
   "outputs": [
    {
     "name": "stdout",
     "output_type": "stream",
     "text": [
      "[1, 2, 3, 4, 'texto', 5]\n"
     ]
    }
   ],
   "source": [
    "lista_original = [1, 2, 3, 4, 'texto', 5]\n",
    "\n",
    "\n",
    "lista_copia = lista.copy()\n",
    "\n",
    "print(lista_copia)\n",
    "\n"
   ]
  },
  {
   "cell_type": "markdown",
   "metadata": {},
   "source": [
    "* .count(): Serve para contar a quantidade de vezes que um determinado item se repete:"
   ]
  },
  {
   "cell_type": "code",
   "execution_count": 14,
   "metadata": {},
   "outputs": [
    {
     "data": {
      "text/plain": [
       "3"
      ]
     },
     "execution_count": 14,
     "metadata": {},
     "output_type": "execute_result"
    }
   ],
   "source": [
    "lista = [1, 2, 3, 4, 'texto', 5, 2, 2]\n",
    "lista.count(2)"
   ]
  },
  {
   "cell_type": "markdown",
   "metadata": {},
   "source": [
    "* .extend(): adiciona novos itens ao final de uma lista:"
   ]
  },
  {
   "cell_type": "code",
   "execution_count": 15,
   "metadata": {},
   "outputs": [
    {
     "name": "stdout",
     "output_type": "stream",
     "text": [
      "[1, 2, 3, 4, 'texto', 5, 'novo_valor', 3]\n"
     ]
    }
   ],
   "source": [
    "lista = [1, 2, 3, 4, 'texto', 5]\n",
    "\n",
    "lista.extend(['novo_valor', 3])\n",
    "\n",
    "print(lista)"
   ]
  },
  {
   "cell_type": "markdown",
   "metadata": {},
   "source": [
    "* .index(): Serve para descobrirmos o indice de determinado item:"
   ]
  },
  {
   "cell_type": "code",
   "execution_count": 16,
   "metadata": {},
   "outputs": [
    {
     "data": {
      "text/plain": [
       "2"
      ]
     },
     "execution_count": 16,
     "metadata": {},
     "output_type": "execute_result"
    }
   ],
   "source": [
    "lista = [1, 2, 3, 4, 'texto', 5]\n",
    "\n",
    "lista.index(3)"
   ]
  },
  {
   "cell_type": "markdown",
   "metadata": {},
   "source": [
    "* .pop(): Remove o último elemento de uma lista:"
   ]
  },
  {
   "cell_type": "code",
   "execution_count": 17,
   "metadata": {},
   "outputs": [
    {
     "name": "stdout",
     "output_type": "stream",
     "text": [
      "1° .pop():[1, 2]\n",
      "2° .pop():[1]\n",
      "3° .pop():[]\n"
     ]
    }
   ],
   "source": [
    "lista = [1, 2, 3]\n",
    "\n",
    "lista.pop()\n",
    "print(f'1° .pop():{lista}')\n",
    "lista.pop()\n",
    "print(f'2° .pop():{lista}')\n",
    "lista.pop()\n",
    "print(f'3° .pop():{lista}')"
   ]
  },
  {
   "cell_type": "code",
   "execution_count": 29,
   "metadata": {},
   "outputs": [
    {
     "name": "stdout",
     "output_type": "stream",
     "text": [
      "[1, 3]\n"
     ]
    }
   ],
   "source": [
    "# .pop() especificando o indice do elemento:\n",
    "lista = [1, 2, 3]\n",
    "\n",
    "lista.pop(1)\n",
    "\n",
    "print(lista)"
   ]
  },
  {
   "cell_type": "markdown",
   "metadata": {},
   "source": [
    "* .remove(): Remove a primeira ocorrencia do elemento selecionado:"
   ]
  },
  {
   "cell_type": "code",
   "execution_count": 18,
   "metadata": {},
   "outputs": [
    {
     "name": "stdout",
     "output_type": "stream",
     "text": [
      "[1, 3]\n"
     ]
    }
   ],
   "source": [
    "lista = [1, 2, 3]\n",
    "\n",
    "lista.remove(2)\n",
    "\n",
    "print(lista)"
   ]
  },
  {
   "cell_type": "markdown",
   "metadata": {},
   "source": [
    "* .reverse(): Inverte a ordem dos elementos de uma lista:"
   ]
  },
  {
   "cell_type": "code",
   "execution_count": 19,
   "metadata": {},
   "outputs": [
    {
     "name": "stdout",
     "output_type": "stream",
     "text": [
      "[3, 2, 1]\n"
     ]
    }
   ],
   "source": [
    "lista = [1, 2, 3]\n",
    "\n",
    "lista.reverse()\n",
    "\n",
    "print(lista)"
   ]
  },
  {
   "cell_type": "markdown",
   "metadata": {},
   "source": [
    "* .sort(): Ordena os elementos em ordem crescente:\n",
    "\n",
    "!!! IMPORTANTE: Não fuunciona em listas que tenham dados str misturados com number !!!\n",
    "\n",
    "ex de lista em que não é possível utilizar .sort():\n",
    "```python\n",
    "lista = [1, 2, 3, 4, 'texto', 5,'outro_texto', 2, 2]\n",
    "```"
   ]
  },
  {
   "cell_type": "code",
   "execution_count": 22,
   "metadata": {},
   "outputs": [
    {
     "name": "stdout",
     "output_type": "stream",
     "text": [
      "[1, 2, 2, 2.1, 3, 4.2, 5]\n"
     ]
    }
   ],
   "source": [
    "lista = [1, 2, 3, 4.2, 5, 2.1, 2]\n",
    "\n",
    "lista.sort()\n",
    "\n",
    "print(lista)"
   ]
  },
  {
   "cell_type": "code",
   "execution_count": 28,
   "metadata": {},
   "outputs": [
    {
     "name": "stdout",
     "output_type": "stream",
     "text": [
      "[5, 4.2, 3, 2.1, 2, 2, 1]\n"
     ]
    }
   ],
   "source": [
    "# .sort() invertido\n",
    "lista = [1, 2, 3, 4.2, 5, 2.1, 2]\n",
    "\n",
    "lista.sort(reverse=True)\n",
    "\n",
    "print(lista)"
   ]
  },
  {
   "cell_type": "markdown",
   "metadata": {},
   "source": [
    "* .len(): Valida quantos itens existem em uma lista:"
   ]
  },
  {
   "cell_type": "code",
   "execution_count": 23,
   "metadata": {},
   "outputs": [
    {
     "data": {
      "text/plain": [
       "7"
      ]
     },
     "execution_count": 23,
     "metadata": {},
     "output_type": "execute_result"
    }
   ],
   "source": [
    "lista = [1, 2, 3, 4.2, 5, 2.1, 2]\n",
    "\n",
    "len(lista)"
   ]
  },
  {
   "cell_type": "markdown",
   "metadata": {},
   "source": [
    "* .sorted(): Retorna uma lista com os elementos ordenados de acordo com a condição especificada:"
   ]
  },
  {
   "cell_type": "code",
   "execution_count": 30,
   "metadata": {},
   "outputs": [
    {
     "name": "stdout",
     "output_type": "stream",
     "text": [
      "['c', 'js', 'java', 'python', 'csharp']\n",
      "['python', 'csharp', 'java', 'js', 'c']\n"
     ]
    }
   ],
   "source": [
    "#Ordenar por quantidade de letras:\n",
    "lista = ['python', 'js', 'java', 'c', 'csharp']\n",
    "\n",
    "#sorted(lista, key=lambda x:(condicão), ordem)\n",
    "lista_ordenada = sorted(lista, key=lambda x:len(x))\n",
    "print(lista_ordenada)\n",
    "\n",
    "#invertida\n",
    "lista_ordenada_reversa = sorted(lista, key=lambda x:len(x), reverse=True)\n",
    "print(lista_ordenada_reversa)"
   ]
  },
  {
   "cell_type": "markdown",
   "metadata": {},
   "source": [
    "#### Tuplas:"
   ]
  },
  {
   "cell_type": "markdown",
   "metadata": {},
   "source": [
    "Tuplas são parecidas com listas, porém, são imutaveis"
   ]
  },
  {
   "cell_type": "code",
   "execution_count": 3,
   "metadata": {},
   "outputs": [
    {
     "name": "stdout",
     "output_type": "stream",
     "text": [
      "('laranja', 'pera', 'uva')\n",
      "('p', 'y', 't', 'h', 'o', 'n')\n",
      "(1, 2, 3, 4)\n",
      "('Brasil',)\n"
     ]
    }
   ],
   "source": [
    "# Exemplos de declarações de tuplas:\n",
    "frutas = ('laranja', 'pera', 'uva',)\n",
    "letra = tuple('python')\n",
    "numeros = tuple([1, 2, 3, 4])\n",
    "pais = ('Brasil',)\n",
    "\n",
    "print(frutas)\n",
    "print(letra)\n",
    "print(numeros)\n",
    "print(pais)"
   ]
  },
  {
   "cell_type": "markdown",
   "metadata": {},
   "source": [
    "A manipulação de Tuplas é feita da mesma forma que a de listas, a única diferença é que não podemos alterar os seus valores ou incluir novos valores\n"
   ]
  },
  {
   "cell_type": "markdown",
   "metadata": {},
   "source": [
    "* Metodos da classe tuple: São chamados da mesma forma que nas listas:"
   ]
  },
  {
   "cell_type": "markdown",
   "metadata": {},
   "source": [
    "1. .count()\n"
   ]
  },
  {
   "cell_type": "code",
   "execution_count": 4,
   "metadata": {},
   "outputs": [
    {
     "name": "stdout",
     "output_type": "stream",
     "text": [
      "3\n"
     ]
    }
   ],
   "source": [
    "tupla = (5, 6, 9, 2, 2, 1, 2, 3,)\n",
    "\n",
    "#contando o elemento 2\n",
    "print(tupla.count(2))"
   ]
  },
  {
   "cell_type": "markdown",
   "metadata": {},
   "source": [
    "2. .index()\n",
    "\n"
   ]
  },
  {
   "cell_type": "code",
   "execution_count": 6,
   "metadata": {},
   "outputs": [
    {
     "name": "stdout",
     "output_type": "stream",
     "text": [
      "2\n"
     ]
    }
   ],
   "source": [
    "tupla = (5, 6, 9, 2, 2, 1, 2, 3,)\n",
    "\n",
    "#saber qual a posição do elemento 9\n",
    "print(tupla.index(9))"
   ]
  },
  {
   "cell_type": "markdown",
   "metadata": {},
   "source": [
    "3. len()"
   ]
  },
  {
   "cell_type": "code",
   "execution_count": 7,
   "metadata": {},
   "outputs": [
    {
     "name": "stdout",
     "output_type": "stream",
     "text": [
      "8\n"
     ]
    }
   ],
   "source": [
    "tupla = (5, 6, 9, 2, 2, 1, 2, 3,)\n",
    "\n",
    "#saber qual o tamanho de uma tupla\n",
    "print(len(tupla))"
   ]
  },
  {
   "cell_type": "markdown",
   "metadata": {},
   "source": [
    "4. Max e Min em um tupla"
   ]
  },
  {
   "cell_type": "code",
   "execution_count": 9,
   "metadata": {},
   "outputs": [
    {
     "name": "stdout",
     "output_type": "stream",
     "text": [
      "Max: 9\n",
      "Min: 1\n"
     ]
    }
   ],
   "source": [
    "tupla = (5, 6, 9, 2, 2, 1, 2, 3,)\n",
    "\n",
    "#max: o maior elemento\n",
    "print(f'Max: {max(tupla)}')\n",
    "\n",
    "#min: o menor elemento\n",
    "print(f'Min: {min(tupla)}')"
   ]
  },
  {
   "cell_type": "markdown",
   "metadata": {},
   "source": [
    "#### Conjuntos (set):"
   ]
  },
  {
   "cell_type": "markdown",
   "metadata": {},
   "source": [
    "Conjunto ou set é uma coleção que não tem valores repetidos, representam conjuntos matematicos"
   ]
  },
  {
   "cell_type": "markdown",
   "metadata": {},
   "source": [
    "* Exemplos de declaração de sets"
   ]
  },
  {
   "cell_type": "code",
   "execution_count": 12,
   "metadata": {},
   "outputs": [
    {
     "name": "stdout",
     "output_type": "stream",
     "text": [
      "{1, 2, 3, 4, 5}\n",
      "{'c', 'a', 'b', 'x', 'i'}\n"
     ]
    }
   ],
   "source": [
    "print(set([1, 2, 3, 2, 4, 5]))\n",
    "\n",
    "print(set('abacaxi'))"
   ]
  },
  {
   "cell_type": "markdown",
   "metadata": {},
   "source": [
    "* Metodos de set"
   ]
  },
  {
   "cell_type": "markdown",
   "metadata": {},
   "source": [
    "1. {}.union"
   ]
  },
  {
   "cell_type": "code",
   "execution_count": 13,
   "metadata": {},
   "outputs": [
    {
     "data": {
      "text/plain": [
       "{1, 2, 3, 4}"
      ]
     },
     "execution_count": 13,
     "metadata": {},
     "output_type": "execute_result"
    }
   ],
   "source": [
    "conjunto_a = {1, 2}\n",
    "conjunto_b = {3, 4}\n",
    "\n",
    "conjunto_a.union(conjunto_b)"
   ]
  },
  {
   "cell_type": "markdown",
   "metadata": {},
   "source": [
    "2. {}.intersection"
   ]
  },
  {
   "cell_type": "code",
   "execution_count": 14,
   "metadata": {},
   "outputs": [
    {
     "data": {
      "text/plain": [
       "{2, 3}"
      ]
     },
     "execution_count": 14,
     "metadata": {},
     "output_type": "execute_result"
    }
   ],
   "source": [
    "conjunto_a = {1, 2, 3}\n",
    "conjunto_b = {2, 3, 4}\n",
    "\n",
    "conjunto_a.intersection(conjunto_b)"
   ]
  },
  {
   "cell_type": "markdown",
   "metadata": {},
   "source": [
    "3. {}.difference"
   ]
  },
  {
   "cell_type": "code",
   "execution_count": 15,
   "metadata": {},
   "outputs": [
    {
     "name": "stdout",
     "output_type": "stream",
     "text": [
      "{1}\n",
      "{4}\n"
     ]
    }
   ],
   "source": [
    "conjunto_a = {1, 2, 3}\n",
    "conjunto_b = {2, 3, 4}\n",
    "\n",
    "print(conjunto_a.difference(conjunto_b))\n",
    "print(conjunto_b.difference(conjunto_a))\n"
   ]
  },
  {
   "cell_type": "markdown",
   "metadata": {},
   "source": [
    "4. {}.symmetric_difference"
   ]
  },
  {
   "cell_type": "code",
   "execution_count": 16,
   "metadata": {},
   "outputs": [
    {
     "data": {
      "text/plain": [
       "{1, 4}"
      ]
     },
     "execution_count": 16,
     "metadata": {},
     "output_type": "execute_result"
    }
   ],
   "source": [
    "conjunto_a = {1, 2, 3}\n",
    "conjunto_b = {2, 3, 4}\n",
    "\n",
    "conjunto_a.symmetric_difference(conjunto_b)"
   ]
  },
  {
   "cell_type": "markdown",
   "metadata": {},
   "source": [
    "5. {}.issubset"
   ]
  },
  {
   "cell_type": "code",
   "execution_count": 17,
   "metadata": {},
   "outputs": [
    {
     "name": "stdout",
     "output_type": "stream",
     "text": [
      "True\n",
      "False\n"
     ]
    }
   ],
   "source": [
    "conjunto_a = {1, 2, 3}\n",
    "conjunto_b = {4, 1, 2, 5, 6, 3}\n",
    "\n",
    "print(conjunto_a.issubset(conjunto_b))\n",
    "print(conjunto_b.issubset(conjunto_a))\n"
   ]
  },
  {
   "cell_type": "markdown",
   "metadata": {},
   "source": [
    "6. {}.issuperset"
   ]
  },
  {
   "cell_type": "code",
   "execution_count": 18,
   "metadata": {},
   "outputs": [
    {
     "name": "stdout",
     "output_type": "stream",
     "text": [
      "False\n",
      "True\n"
     ]
    }
   ],
   "source": [
    "conjunto_a = {1, 2, 3}\n",
    "conjunto_b = {4, 1, 2, 5, 6, 3}\n",
    "\n",
    "print(conjunto_a.issuperset(conjunto_b))\n",
    "print(conjunto_b.issuperset(conjunto_a))"
   ]
  },
  {
   "cell_type": "markdown",
   "metadata": {},
   "source": [
    "7. {}.isdisjoint"
   ]
  },
  {
   "cell_type": "code",
   "execution_count": 19,
   "metadata": {},
   "outputs": [
    {
     "name": "stdout",
     "output_type": "stream",
     "text": [
      "True\n",
      "False\n"
     ]
    }
   ],
   "source": [
    "conjunto_a = {1, 2, 3, 4, 5}\n",
    "conjunto_b = {6, 7, 8, 9}\n",
    "conjunto_c = {1, 0}\n",
    "\n",
    "print(conjunto_a.isdisjoint(conjunto_b))\n",
    "print(conjunto_a.isdisjoint(conjunto_c))\n"
   ]
  },
  {
   "cell_type": "markdown",
   "metadata": {},
   "source": [
    "8. {}.add"
   ]
  },
  {
   "cell_type": "code",
   "execution_count": 20,
   "metadata": {},
   "outputs": [
    {
     "name": "stdout",
     "output_type": "stream",
     "text": [
      "{1, 2, 3, 4, 10}\n"
     ]
    }
   ],
   "source": [
    "conjunto_a = {1, 2}\n",
    "\n",
    "conjunto_a.add(3)\n",
    "conjunto_a.add(4)\n",
    "conjunto_a.add(10)\n",
    "\n",
    "print(conjunto_a)\n",
    "\n"
   ]
  },
  {
   "cell_type": "markdown",
   "metadata": {},
   "source": [
    "9. {}.clear"
   ]
  },
  {
   "cell_type": "code",
   "execution_count": 21,
   "metadata": {},
   "outputs": [
    {
     "name": "stdout",
     "output_type": "stream",
     "text": [
      "set()\n"
     ]
    }
   ],
   "source": [
    "conjunto_a = {1, 2}\n",
    "\n",
    "conjunto_a.clear()\n",
    "\n",
    "print(conjunto_a)"
   ]
  },
  {
   "cell_type": "markdown",
   "metadata": {},
   "source": [
    "10. {}.copy"
   ]
  },
  {
   "cell_type": "code",
   "execution_count": 23,
   "metadata": {},
   "outputs": [
    {
     "name": "stdout",
     "output_type": "stream",
     "text": [
      "conjunto a: set()\n",
      "conjunto b: {1, 2}\n"
     ]
    }
   ],
   "source": [
    "conjunto_a = {1, 2}\n",
    "\n",
    "#copiamos os valores para o conjunto b\n",
    "conjunto_b = conjunto_a.copy()\n",
    "\n",
    "#limpamos os valores do conjunto a\n",
    "conjunto_a.clear()\n",
    "\n",
    "#validandos o que aconteceu\n",
    "print(f'conjunto a: {conjunto_a}')\n",
    "print(f'conjunto b: {conjunto_b}')\n",
    "\n"
   ]
  },
  {
   "cell_type": "markdown",
   "metadata": {},
   "source": [
    "11. {}.discard"
   ]
  },
  {
   "cell_type": "code",
   "execution_count": 28,
   "metadata": {},
   "outputs": [
    {
     "name": "stdout",
     "output_type": "stream",
     "text": [
      "{1, 2, 3, 4, 5, 6, 7, 8, 9}\n",
      "{2, 3, 4, 5, 6, 7, 8, 9}\n",
      "{2, 3, 4, 5, 6, 7, 8, 9}\n"
     ]
    }
   ],
   "source": [
    "conjunto_a = {1, 2, 3, 4, 5, 6, 7, 7, 8, 9, 9}\n",
    "print(conjunto_a)\n",
    "\n",
    "conjunto_a.discard(1)\n",
    "print(conjunto_a)\n",
    "\n",
    "conjunto_a.discard(45)\n",
    "print(conjunto_a)\n"
   ]
  },
  {
   "cell_type": "markdown",
   "metadata": {},
   "source": [
    "12. {}.pop"
   ]
  },
  {
   "cell_type": "code",
   "execution_count": 29,
   "metadata": {},
   "outputs": [
    {
     "name": "stdout",
     "output_type": "stream",
     "text": [
      "{1, 2, 3, 4, 5, 6, 7, 8, 9}\n",
      "{2, 3, 4, 5, 6, 7, 8, 9}\n",
      "{3, 4, 5, 6, 7, 8, 9}\n"
     ]
    }
   ],
   "source": [
    "conjunto_a = {1, 2, 3, 4, 5, 6, 7, 7, 8, 9, 9}\n",
    "print(conjunto_a)\n",
    "\n",
    "conjunto_a.pop()\n",
    "print(conjunto_a)\n",
    "\n",
    "conjunto_a.pop()\n",
    "print(conjunto_a)"
   ]
  },
  {
   "cell_type": "markdown",
   "metadata": {},
   "source": [
    "13. {}.remove"
   ]
  },
  {
   "cell_type": "code",
   "execution_count": 31,
   "metadata": {},
   "outputs": [
    {
     "name": "stdout",
     "output_type": "stream",
     "text": [
      "{1, 2, 3, 4, 5, 6, 7, 8, 9}\n",
      "{2, 3, 4, 5, 6, 7, 8, 9}\n"
     ]
    }
   ],
   "source": [
    "conjunto_a = {1, 2, 3, 4, 5, 6, 7, 7, 8, 9, 9}\n",
    "print(conjunto_a)\n",
    "\n",
    "conjunto_a.remove(1)\n",
    "print(conjunto_a)\n"
   ]
  },
  {
   "cell_type": "markdown",
   "metadata": {},
   "source": [
    "14. len()"
   ]
  },
  {
   "cell_type": "code",
   "execution_count": 32,
   "metadata": {},
   "outputs": [
    {
     "data": {
      "text/plain": [
       "9"
      ]
     },
     "execution_count": 32,
     "metadata": {},
     "output_type": "execute_result"
    }
   ],
   "source": [
    "conjunto_a = {1, 2, 3, 4, 5, 6, 7, 7, 8, 9, 9}\n",
    "\n",
    "len(conjunto_a)"
   ]
  },
  {
   "cell_type": "markdown",
   "metadata": {},
   "source": [
    "15. in"
   ]
  },
  {
   "cell_type": "code",
   "execution_count": 33,
   "metadata": {},
   "outputs": [
    {
     "name": "stdout",
     "output_type": "stream",
     "text": [
      "True\n",
      "False\n"
     ]
    }
   ],
   "source": [
    "conjunto_a = {1, 2, 3, 4, 5, 6, 7, 7, 8, 9, 9}\n",
    "\n",
    "print(1 in conjunto_a)\n",
    "print(50 in conjunto_a)\n"
   ]
  }
 ],
 "metadata": {
  "kernelspec": {
   "display_name": "Python 3",
   "language": "python",
   "name": "python3"
  },
  "language_info": {
   "codemirror_mode": {
    "name": "ipython",
    "version": 3
   },
   "file_extension": ".py",
   "mimetype": "text/x-python",
   "name": "python",
   "nbconvert_exporter": "python",
   "pygments_lexer": "ipython3",
   "version": "3.11.1"
  }
 },
 "nbformat": 4,
 "nbformat_minor": 2
}
