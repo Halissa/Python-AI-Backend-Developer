{
 "cells": [
  {
   "cell_type": "markdown",
   "metadata": {},
   "source": [
    "### Listas, tuplas, conjuntos e dicionarios:"
   ]
  },
  {
   "cell_type": "markdown",
   "metadata": {},
   "source": [
    "#### Listas:"
   ]
  },
  {
   "cell_type": "code",
   "execution_count": 1,
   "metadata": {},
   "outputs": [
    {
     "name": "stdout",
     "output_type": "stream",
     "text": [
      "['maça', 'laranja', 'uva']\n",
      "['p', 'y', 't', 'h', 'o', 'n']\n",
      "['maça', 'laranja', 1, 5.6, 'uva']\n"
     ]
    }
   ],
   "source": [
    "# Criação de listas\n",
    "lista1 = list()\n",
    "lista2 = []\n",
    "\n",
    "# Exemplo de listas preenchidos\n",
    "frutas = ['maça', 'laranja', 'uva']\n",
    "letras = list('python')\n",
    "variados = ['maça', 'laranja', 1, 5.6,'uva']\n",
    "\n",
    "print(frutas)\n",
    "print(letras)\n",
    "print(variados)"
   ]
  },
  {
   "cell_type": "markdown",
   "metadata": {},
   "source": [
    "##### Manipulação 01:"
   ]
  },
  {
   "cell_type": "markdown",
   "metadata": {},
   "source": [
    "* Acesso Direto:"
   ]
  },
  {
   "cell_type": "code",
   "execution_count": 3,
   "metadata": {},
   "outputs": [
    {
     "name": "stdout",
     "output_type": "stream",
     "text": [
      "indice 0: maça\n",
      "indice 1: laranja\n",
      "indice 2: uva\n"
     ]
    }
   ],
   "source": [
    "# Acessando dados de uma lista pelo posição:\n",
    "frutas = ['maça', 'laranja', 'uva']\n",
    "\n",
    "# A primeira posição é sempre 0:\n",
    "print(f'indice 0: {frutas[0]}')\n",
    "print(f'indice 1: {frutas[1]}')\n",
    "print(f'indice 2: {frutas[2]}')"
   ]
  },
  {
   "cell_type": "markdown",
   "metadata": {},
   "source": [
    "* Índices Negativos:"
   ]
  },
  {
   "cell_type": "code",
   "execution_count": 4,
   "metadata": {},
   "outputs": [
    {
     "name": "stdout",
     "output_type": "stream",
     "text": [
      "indice -1: pera\n",
      "indice -2: uva\n",
      "indice -3: laranja\n",
      "indice -4: maça\n"
     ]
    }
   ],
   "source": [
    "# A última posição é sempre -1 a antepenultima -2, assim sucessivamente: \n",
    "frutas = ['maça', 'laranja', 'uva', 'pera']\n",
    "\n",
    "print(f'indice -1: {frutas[-1]}')\n",
    "print(f'indice -2: {frutas[-2]}')\n",
    "print(f'indice -3: {frutas[-3]}')\n",
    "print(f'indice -4: {frutas[-4]}')"
   ]
  },
  {
   "cell_type": "markdown",
   "metadata": {},
   "source": [
    "* Listas aninhadas (ex: matrizes)"
   ]
  },
  {
   "cell_type": "code",
   "execution_count": 9,
   "metadata": {},
   "outputs": [
    {
     "name": "stdout",
     "output_type": "stream",
     "text": [
      "[1, 'a', 2]\n",
      "['b', 3, 4]\n",
      "[6, 5, 'c']\n",
      "\n",
      "1 a 2 \n",
      "b 3 4 \n",
      "6 5 c "
     ]
    }
   ],
   "source": [
    "matriz = [\n",
    "    [1,'a',2],\n",
    "    ['b',3,4],\n",
    "    [6,5,'c']\n",
    "]\n",
    "# visualizando as listas dentro da matriz\n",
    "print(matriz[0])\n",
    "print(matriz[1])\n",
    "print(matriz[2])\n",
    "\n",
    "# Visualizando indice por indice de uma matriz:\n",
    "print(f'\\n{matriz[0][0]}', end=' ')\n",
    "print(f'{matriz[0][1]}', end=' ')\n",
    "print(f'{matriz[0][2]}', end=' ')\n",
    "\n",
    "print(f'\\n{matriz[1][0]}', end=' ')\n",
    "print(f'{matriz[1][1]}', end=' ')\n",
    "print(f'{matriz[1][2]}', end=' ')\n",
    "\n",
    "print(f'\\n{matriz[2][0]}', end=' ')\n",
    "print(f'{matriz[2][1]}', end=' ')\n",
    "print(f'{matriz[2][2]}', end=' ')"
   ]
  },
  {
   "cell_type": "markdown",
   "metadata": {},
   "source": [
    "* Fatiamento"
   ]
  },
  {
   "cell_type": "code",
   "execution_count": 15,
   "metadata": {},
   "outputs": [],
   "source": [
    "letras = list('python')"
   ]
  },
  {
   "cell_type": "code",
   "execution_count": 16,
   "metadata": {},
   "outputs": [
    {
     "data": {
      "text/plain": [
       "['t', 'h', 'o', 'n']"
      ]
     },
     "execution_count": 16,
     "metadata": {},
     "output_type": "execute_result"
    }
   ],
   "source": [
    "# Selecionar do terceiro elemento em diante\n",
    "letras[2:]"
   ]
  },
  {
   "cell_type": "code",
   "execution_count": 17,
   "metadata": {},
   "outputs": [
    {
     "data": {
      "text/plain": [
       "['p', 'y']"
      ]
     },
     "execution_count": 17,
     "metadata": {},
     "output_type": "execute_result"
    }
   ],
   "source": [
    "# Selecionar do começo até o terceiro elemento\n",
    "letras[:2]"
   ]
  },
  {
   "cell_type": "code",
   "execution_count": 18,
   "metadata": {},
   "outputs": [
    {
     "data": {
      "text/plain": [
       "['y', 't']"
      ]
     },
     "execution_count": 18,
     "metadata": {},
     "output_type": "execute_result"
    }
   ],
   "source": [
    "# Selecionar do segundo elemento até terceiro\n",
    "letras[1:3]"
   ]
  },
  {
   "cell_type": "code",
   "execution_count": 19,
   "metadata": {},
   "outputs": [
    {
     "data": {
      "text/plain": [
       "['p', 'y', 't', 'h', 'o', 'n']"
      ]
     },
     "execution_count": 19,
     "metadata": {},
     "output_type": "execute_result"
    }
   ],
   "source": [
    "# Visualizar toda a lista\n",
    "letras[::]"
   ]
  },
  {
   "cell_type": "code",
   "execution_count": 20,
   "metadata": {},
   "outputs": [
    {
     "data": {
      "text/plain": [
       "['n', 'o', 'h', 't', 'y', 'p']"
      ]
     },
     "execution_count": 20,
     "metadata": {},
     "output_type": "execute_result"
    }
   ],
   "source": [
    "# Visualizar toda a lista invertida\n",
    "letras[::-1]"
   ]
  },
  {
   "cell_type": "markdown",
   "metadata": {},
   "source": [
    "* Iterar (percorrer) listas"
   ]
  },
  {
   "cell_type": "code",
   "execution_count": 21,
   "metadata": {},
   "outputs": [
    {
     "name": "stdout",
     "output_type": "stream",
     "text": [
      "1\n",
      "2\n",
      "3\n"
     ]
    }
   ],
   "source": [
    "lista_de_nums = [1, 2, 3]\n",
    "\n",
    "for num in lista_de_nums:\n",
    "    print(num)"
   ]
  },
  {
   "cell_type": "markdown",
   "metadata": {},
   "source": [
    "* Descobrindo índice de objetos a partir de enumerate"
   ]
  },
  {
   "cell_type": "code",
   "execution_count": 1,
   "metadata": {},
   "outputs": [
    {
     "name": "stdout",
     "output_type": "stream",
     "text": [
      "indice 0: 1\n",
      "indice 1: 2\n",
      "indice 2: 3\n"
     ]
    }
   ],
   "source": [
    "lista_de_nums = [1, 2, 3]\n",
    "\n",
    "for indice, num in enumerate(lista_de_nums):\n",
    "    print(f'indice {indice}: {num}')"
   ]
  },
  {
   "cell_type": "markdown",
   "metadata": {},
   "source": [
    "##### Manipulação 02 (filtro)"
   ]
  },
  {
   "cell_type": "markdown",
   "metadata": {},
   "source": [
    "* Filtrar listas"
   ]
  },
  {
   "cell_type": "code",
   "execution_count": 3,
   "metadata": {},
   "outputs": [
    {
     "name": "stdout",
     "output_type": "stream",
     "text": [
      "[30, 2, 34]\n"
     ]
    }
   ],
   "source": [
    "# Versão 1 filtro para números pares\n",
    "numeros = [1, 30, 21, 2, 9, 65, 34]\n",
    "pares = []\n",
    "\n",
    "for numero in numeros:\n",
    "    if numero % 2 == 0:\n",
    "        pares.append(numero)\n",
    "\n",
    "print(pares)"
   ]
  },
  {
   "cell_type": "code",
   "execution_count": 4,
   "metadata": {},
   "outputs": [
    {
     "name": "stdout",
     "output_type": "stream",
     "text": [
      "[30, 2, 34]\n"
     ]
    }
   ],
   "source": [
    "# Versão 2 filtro para números pares\n",
    "numeros = [1, 30, 21, 2, 9, 65, 34]\n",
    "\n",
    "# lista filtrada = [valor para valor em lista se (condicao)]\n",
    "pares = [numero for numero in numeros if numero % 2 == 0]\n",
    "\n",
    "print(pares)"
   ]
  },
  {
   "cell_type": "markdown",
   "metadata": {},
   "source": [
    "* Modificar todos os valores de uma lista de uma única vez"
   ]
  },
  {
   "cell_type": "code",
   "execution_count": 5,
   "metadata": {},
   "outputs": [
    {
     "name": "stdout",
     "output_type": "stream",
     "text": [
      "[1, 900, 441, 4, 81, 4225, 1156]\n"
     ]
    }
   ],
   "source": [
    "# Versão 1 Elevar todos os valores ao quadrado\n",
    "numeros = [1, 30, 21, 2, 9, 65, 34]\n",
    "quadrado = []\n",
    "\n",
    "for numero in numeros:\n",
    "    quadrado.append(numero ** 2)\n",
    "\n",
    "print(quadrado)"
   ]
  },
  {
   "cell_type": "code",
   "execution_count": 7,
   "metadata": {},
   "outputs": [
    {
     "name": "stdout",
     "output_type": "stream",
     "text": [
      "[1, 900, 441, 4, 81, 4225, 1156]\n"
     ]
    }
   ],
   "source": [
    "# Versão 2 \n",
    "numeros = [1, 30, 21, 2, 9, 65, 34]\n",
    "\n",
    "# lista alterada = [(modificação) para valor em lista]\n",
    "quadrado = [numero ** 2 for numero in numeros]\n",
    "\n",
    "print(quadrado)"
   ]
  },
  {
   "cell_type": "markdown",
   "metadata": {},
   "source": [
    "##### Metodos da classe list:"
   ]
  },
  {
   "cell_type": "markdown",
   "metadata": {},
   "source": [
    "* .append(): Serve para incluir valores em listas já existentes: "
   ]
  },
  {
   "cell_type": "code",
   "execution_count": 9,
   "metadata": {},
   "outputs": [
    {
     "name": "stdout",
     "output_type": "stream",
     "text": [
      "[1, 2, 3, 4, 'texto', 5]\n"
     ]
    }
   ],
   "source": [
    "lista = [1, 2, 3]\n",
    "\n",
    "lista.append(4)\n",
    "lista.append('texto')\n",
    "lista.append(5)\n",
    "\n",
    "print(lista)"
   ]
  },
  {
   "cell_type": "markdown",
   "metadata": {},
   "source": [
    "* insert(): Inserir um elemento em uma posição pré determinada"
   ]
  },
  {
   "cell_type": "code",
   "execution_count": 26,
   "metadata": {},
   "outputs": [
    {
     "name": "stdout",
     "output_type": "stream",
     "text": [
      "[1, 'novo_item', 2, 3]\n"
     ]
    }
   ],
   "source": [
    "lista = [1, 2, 3]\n",
    "\n",
    "lista.insert(1, 'novo_item')\n",
    "\n",
    "print(lista)"
   ]
  },
  {
   "cell_type": "markdown",
   "metadata": {},
   "source": [
    "* .clear(): Serve para excluir o conteudo de uma lista:"
   ]
  },
  {
   "cell_type": "code",
   "execution_count": 10,
   "metadata": {},
   "outputs": [
    {
     "name": "stdout",
     "output_type": "stream",
     "text": [
      "[]\n"
     ]
    }
   ],
   "source": [
    "lista = [1, 2, 3, 4, 'texto', 5]\n",
    "\n",
    "lista.clear()\n",
    "\n",
    "print(lista)"
   ]
  },
  {
   "cell_type": "markdown",
   "metadata": {},
   "source": [
    "* .copy(): Serve para copiar o conteudo de uma lista:\n",
    "\n",
    "!!! IMPORTANTE: Se passarmos uma lista para outra, por se tratar de um objeto, estamos passando o endereço da memória do original e não uma cópia. Então as alterações feita em uma das duas listas refletem em ambas. Por este motivo se queremos apenas os valores e não o endereço da memória precisamos utilizar o .copy()\n"
   ]
  },
  {
   "cell_type": "code",
   "execution_count": 13,
   "metadata": {},
   "outputs": [
    {
     "name": "stdout",
     "output_type": "stream",
     "text": [
      "[1, 2, 3, 4, 'texto', 5]\n"
     ]
    }
   ],
   "source": [
    "lista_original = [1, 2, 3, 4, 'texto', 5]\n",
    "\n",
    "\n",
    "lista_copia = lista.copy()\n",
    "\n",
    "print(lista_copia)\n",
    "\n"
   ]
  },
  {
   "cell_type": "markdown",
   "metadata": {},
   "source": [
    "* .count(): Serve para contar a quantidade de vezes que um determinado item se repete:"
   ]
  },
  {
   "cell_type": "code",
   "execution_count": 14,
   "metadata": {},
   "outputs": [
    {
     "data": {
      "text/plain": [
       "3"
      ]
     },
     "execution_count": 14,
     "metadata": {},
     "output_type": "execute_result"
    }
   ],
   "source": [
    "lista = [1, 2, 3, 4, 'texto', 5, 2, 2]\n",
    "lista.count(2)"
   ]
  },
  {
   "cell_type": "markdown",
   "metadata": {},
   "source": [
    "* .extend(): adiciona novos itens ao final de uma lista:"
   ]
  },
  {
   "cell_type": "code",
   "execution_count": 15,
   "metadata": {},
   "outputs": [
    {
     "name": "stdout",
     "output_type": "stream",
     "text": [
      "[1, 2, 3, 4, 'texto', 5, 'novo_valor', 3]\n"
     ]
    }
   ],
   "source": [
    "lista = [1, 2, 3, 4, 'texto', 5]\n",
    "\n",
    "lista.extend(['novo_valor', 3])\n",
    "\n",
    "print(lista)"
   ]
  },
  {
   "cell_type": "markdown",
   "metadata": {},
   "source": [
    "* .index(): Serve para descobrirmos o indice de determinado item:"
   ]
  },
  {
   "cell_type": "code",
   "execution_count": 16,
   "metadata": {},
   "outputs": [
    {
     "data": {
      "text/plain": [
       "2"
      ]
     },
     "execution_count": 16,
     "metadata": {},
     "output_type": "execute_result"
    }
   ],
   "source": [
    "lista = [1, 2, 3, 4, 'texto', 5]\n",
    "\n",
    "lista.index(3)"
   ]
  },
  {
   "cell_type": "markdown",
   "metadata": {},
   "source": [
    "* .pop(): Remove o último elemento de uma lista:"
   ]
  },
  {
   "cell_type": "code",
   "execution_count": 17,
   "metadata": {},
   "outputs": [
    {
     "name": "stdout",
     "output_type": "stream",
     "text": [
      "1° .pop():[1, 2]\n",
      "2° .pop():[1]\n",
      "3° .pop():[]\n"
     ]
    }
   ],
   "source": [
    "lista = [1, 2, 3]\n",
    "\n",
    "lista.pop()\n",
    "print(f'1° .pop():{lista}')\n",
    "lista.pop()\n",
    "print(f'2° .pop():{lista}')\n",
    "lista.pop()\n",
    "print(f'3° .pop():{lista}')"
   ]
  },
  {
   "cell_type": "code",
   "execution_count": 29,
   "metadata": {},
   "outputs": [
    {
     "name": "stdout",
     "output_type": "stream",
     "text": [
      "[1, 3]\n"
     ]
    }
   ],
   "source": [
    "# .pop() especificando o indice do elemento:\n",
    "lista = [1, 2, 3]\n",
    "\n",
    "lista.pop(1)\n",
    "\n",
    "print(lista)"
   ]
  },
  {
   "cell_type": "markdown",
   "metadata": {},
   "source": [
    "* .remove(): Remove a primeira ocorrencia do elemento selecionado:"
   ]
  },
  {
   "cell_type": "code",
   "execution_count": 18,
   "metadata": {},
   "outputs": [
    {
     "name": "stdout",
     "output_type": "stream",
     "text": [
      "[1, 3]\n"
     ]
    }
   ],
   "source": [
    "lista = [1, 2, 3]\n",
    "\n",
    "lista.remove(2)\n",
    "\n",
    "print(lista)"
   ]
  },
  {
   "cell_type": "markdown",
   "metadata": {},
   "source": [
    "* .reverse(): Inverte a ordem dos elementos de uma lista:"
   ]
  },
  {
   "cell_type": "code",
   "execution_count": 19,
   "metadata": {},
   "outputs": [
    {
     "name": "stdout",
     "output_type": "stream",
     "text": [
      "[3, 2, 1]\n"
     ]
    }
   ],
   "source": [
    "lista = [1, 2, 3]\n",
    "\n",
    "lista.reverse()\n",
    "\n",
    "print(lista)"
   ]
  },
  {
   "cell_type": "markdown",
   "metadata": {},
   "source": [
    "* .sort(): Ordena os elementos em ordem crescente:\n",
    "\n",
    "!!! IMPORTANTE: Não fuunciona em listas que tenham dados str misturados com number !!!\n",
    "\n",
    "ex de lista em que não é possível utilizar .sort():\n",
    "```python\n",
    "lista = [1, 2, 3, 4, 'texto', 5,'outro_texto', 2, 2]\n",
    "```"
   ]
  },
  {
   "cell_type": "code",
   "execution_count": 22,
   "metadata": {},
   "outputs": [
    {
     "name": "stdout",
     "output_type": "stream",
     "text": [
      "[1, 2, 2, 2.1, 3, 4.2, 5]\n"
     ]
    }
   ],
   "source": [
    "lista = [1, 2, 3, 4.2, 5, 2.1, 2]\n",
    "\n",
    "lista.sort()\n",
    "\n",
    "print(lista)"
   ]
  },
  {
   "cell_type": "code",
   "execution_count": 28,
   "metadata": {},
   "outputs": [
    {
     "name": "stdout",
     "output_type": "stream",
     "text": [
      "[5, 4.2, 3, 2.1, 2, 2, 1]\n"
     ]
    }
   ],
   "source": [
    "# .sort() invertido\n",
    "lista = [1, 2, 3, 4.2, 5, 2.1, 2]\n",
    "\n",
    "lista.sort(reverse=True)\n",
    "\n",
    "print(lista)"
   ]
  },
  {
   "cell_type": "markdown",
   "metadata": {},
   "source": [
    "* .len(): Valida quantos itens existem em uma lista:"
   ]
  },
  {
   "cell_type": "code",
   "execution_count": 23,
   "metadata": {},
   "outputs": [
    {
     "data": {
      "text/plain": [
       "7"
      ]
     },
     "execution_count": 23,
     "metadata": {},
     "output_type": "execute_result"
    }
   ],
   "source": [
    "lista = [1, 2, 3, 4.2, 5, 2.1, 2]\n",
    "\n",
    "len(lista)"
   ]
  },
  {
   "cell_type": "markdown",
   "metadata": {},
   "source": [
    "* .sorted(): Retorna uma lista com os elementos ordenados de acordo com a condição especificada:"
   ]
  },
  {
   "cell_type": "code",
   "execution_count": 30,
   "metadata": {},
   "outputs": [
    {
     "name": "stdout",
     "output_type": "stream",
     "text": [
      "['c', 'js', 'java', 'python', 'csharp']\n",
      "['python', 'csharp', 'java', 'js', 'c']\n"
     ]
    }
   ],
   "source": [
    "#Ordenar por quantidade de letras:\n",
    "lista = ['python', 'js', 'java', 'c', 'csharp']\n",
    "\n",
    "#sorted(lista, key=lambda x:(condicão), ordem)\n",
    "lista_ordenada = sorted(lista, key=lambda x:len(x))\n",
    "print(lista_ordenada)\n",
    "\n",
    "#invertida\n",
    "lista_ordenada_reversa = sorted(lista, key=lambda x:len(x), reverse=True)\n",
    "print(lista_ordenada_reversa)"
   ]
  },
  {
   "cell_type": "markdown",
   "metadata": {},
   "source": [
    "#### Tuplas:"
   ]
  },
  {
   "cell_type": "markdown",
   "metadata": {},
   "source": [
    "Tuplas são parecidas com listas, porém, são imutaveis"
   ]
  },
  {
   "cell_type": "code",
   "execution_count": 3,
   "metadata": {},
   "outputs": [
    {
     "name": "stdout",
     "output_type": "stream",
     "text": [
      "('laranja', 'pera', 'uva')\n",
      "('p', 'y', 't', 'h', 'o', 'n')\n",
      "(1, 2, 3, 4)\n",
      "('Brasil',)\n"
     ]
    }
   ],
   "source": [
    "# Exemplos de declarações de tuplas:\n",
    "frutas = ('laranja', 'pera', 'uva',)\n",
    "letra = tuple('python')\n",
    "numeros = tuple([1, 2, 3, 4])\n",
    "pais = ('Brasil',)\n",
    "\n",
    "print(frutas)\n",
    "print(letra)\n",
    "print(numeros)\n",
    "print(pais)"
   ]
  },
  {
   "cell_type": "markdown",
   "metadata": {},
   "source": [
    "A manipulação de Tuplas é feita da mesma forma que a de listas, a única diferença é que não podemos alterar os seus valores ou incluir novos valores\n"
   ]
  },
  {
   "cell_type": "markdown",
   "metadata": {},
   "source": [
    "* Metodos da classe tuple: São chamados da mesma forma que nas listas:"
   ]
  },
  {
   "cell_type": "markdown",
   "metadata": {},
   "source": [
    "1. .count()\n"
   ]
  },
  {
   "cell_type": "code",
   "execution_count": 4,
   "metadata": {},
   "outputs": [
    {
     "name": "stdout",
     "output_type": "stream",
     "text": [
      "3\n"
     ]
    }
   ],
   "source": [
    "tupla = (5, 6, 9, 2, 2, 1, 2, 3,)\n",
    "\n",
    "#contando o elemento 2\n",
    "print(tupla.count(2))"
   ]
  },
  {
   "cell_type": "markdown",
   "metadata": {},
   "source": [
    "2. .index()\n",
    "\n"
   ]
  },
  {
   "cell_type": "code",
   "execution_count": 6,
   "metadata": {},
   "outputs": [
    {
     "name": "stdout",
     "output_type": "stream",
     "text": [
      "2\n"
     ]
    }
   ],
   "source": [
    "tupla = (5, 6, 9, 2, 2, 1, 2, 3,)\n",
    "\n",
    "#saber qual a posição do elemento 9\n",
    "print(tupla.index(9))"
   ]
  },
  {
   "cell_type": "markdown",
   "metadata": {},
   "source": [
    "3. len()"
   ]
  },
  {
   "cell_type": "code",
   "execution_count": 7,
   "metadata": {},
   "outputs": [
    {
     "name": "stdout",
     "output_type": "stream",
     "text": [
      "8\n"
     ]
    }
   ],
   "source": [
    "tupla = (5, 6, 9, 2, 2, 1, 2, 3,)\n",
    "\n",
    "#saber qual o tamanho de uma tupla\n",
    "print(len(tupla))"
   ]
  },
  {
   "cell_type": "markdown",
   "metadata": {},
   "source": [
    "4. Max e Min em um tupla"
   ]
  },
  {
   "cell_type": "code",
   "execution_count": 9,
   "metadata": {},
   "outputs": [
    {
     "name": "stdout",
     "output_type": "stream",
     "text": [
      "Max: 9\n",
      "Min: 1\n"
     ]
    }
   ],
   "source": [
    "tupla = (5, 6, 9, 2, 2, 1, 2, 3,)\n",
    "\n",
    "#max: o maior elemento\n",
    "print(f'Max: {max(tupla)}')\n",
    "\n",
    "#min: o menor elemento\n",
    "print(f'Min: {min(tupla)}')"
   ]
  },
  {
   "cell_type": "markdown",
   "metadata": {},
   "source": [
    "#### Conjuntos (set):"
   ]
  },
  {
   "cell_type": "markdown",
   "metadata": {},
   "source": [
    "Conjunto ou set é uma coleção que não tem valores repetidos, representam conjuntos matematicos"
   ]
  },
  {
   "cell_type": "markdown",
   "metadata": {},
   "source": [
    "* Exemplos de declaração de sets"
   ]
  },
  {
   "cell_type": "code",
   "execution_count": 12,
   "metadata": {},
   "outputs": [
    {
     "name": "stdout",
     "output_type": "stream",
     "text": [
      "{1, 2, 3, 4, 5}\n",
      "{'c', 'a', 'b', 'x', 'i'}\n"
     ]
    }
   ],
   "source": [
    "print(set([1, 2, 3, 2, 4, 5]))\n",
    "\n",
    "print(set('abacaxi'))"
   ]
  },
  {
   "cell_type": "markdown",
   "metadata": {},
   "source": [
    "* Metodos de set"
   ]
  },
  {
   "cell_type": "markdown",
   "metadata": {},
   "source": [
    "1. {}.union"
   ]
  },
  {
   "cell_type": "code",
   "execution_count": 13,
   "metadata": {},
   "outputs": [
    {
     "data": {
      "text/plain": [
       "{1, 2, 3, 4}"
      ]
     },
     "execution_count": 13,
     "metadata": {},
     "output_type": "execute_result"
    }
   ],
   "source": [
    "conjunto_a = {1, 2}\n",
    "conjunto_b = {3, 4}\n",
    "\n",
    "conjunto_a.union(conjunto_b)"
   ]
  },
  {
   "cell_type": "markdown",
   "metadata": {},
   "source": [
    "2. {}.intersection"
   ]
  },
  {
   "cell_type": "code",
   "execution_count": 14,
   "metadata": {},
   "outputs": [
    {
     "data": {
      "text/plain": [
       "{2, 3}"
      ]
     },
     "execution_count": 14,
     "metadata": {},
     "output_type": "execute_result"
    }
   ],
   "source": [
    "conjunto_a = {1, 2, 3}\n",
    "conjunto_b = {2, 3, 4}\n",
    "\n",
    "conjunto_a.intersection(conjunto_b)"
   ]
  },
  {
   "cell_type": "markdown",
   "metadata": {},
   "source": [
    "3. {}.difference"
   ]
  },
  {
   "cell_type": "code",
   "execution_count": 15,
   "metadata": {},
   "outputs": [
    {
     "name": "stdout",
     "output_type": "stream",
     "text": [
      "{1}\n",
      "{4}\n"
     ]
    }
   ],
   "source": [
    "conjunto_a = {1, 2, 3}\n",
    "conjunto_b = {2, 3, 4}\n",
    "\n",
    "print(conjunto_a.difference(conjunto_b))\n",
    "print(conjunto_b.difference(conjunto_a))\n"
   ]
  },
  {
   "cell_type": "markdown",
   "metadata": {},
   "source": [
    "4. {}.symmetric_difference"
   ]
  },
  {
   "cell_type": "code",
   "execution_count": 16,
   "metadata": {},
   "outputs": [
    {
     "data": {
      "text/plain": [
       "{1, 4}"
      ]
     },
     "execution_count": 16,
     "metadata": {},
     "output_type": "execute_result"
    }
   ],
   "source": [
    "conjunto_a = {1, 2, 3}\n",
    "conjunto_b = {2, 3, 4}\n",
    "\n",
    "conjunto_a.symmetric_difference(conjunto_b)"
   ]
  },
  {
   "cell_type": "markdown",
   "metadata": {},
   "source": [
    "5. {}.issubset"
   ]
  },
  {
   "cell_type": "code",
   "execution_count": 17,
   "metadata": {},
   "outputs": [
    {
     "name": "stdout",
     "output_type": "stream",
     "text": [
      "True\n",
      "False\n"
     ]
    }
   ],
   "source": [
    "conjunto_a = {1, 2, 3}\n",
    "conjunto_b = {4, 1, 2, 5, 6, 3}\n",
    "\n",
    "print(conjunto_a.issubset(conjunto_b))\n",
    "print(conjunto_b.issubset(conjunto_a))\n"
   ]
  },
  {
   "cell_type": "markdown",
   "metadata": {},
   "source": [
    "6. {}.issuperset"
   ]
  },
  {
   "cell_type": "code",
   "execution_count": 18,
   "metadata": {},
   "outputs": [
    {
     "name": "stdout",
     "output_type": "stream",
     "text": [
      "False\n",
      "True\n"
     ]
    }
   ],
   "source": [
    "conjunto_a = {1, 2, 3}\n",
    "conjunto_b = {4, 1, 2, 5, 6, 3}\n",
    "\n",
    "print(conjunto_a.issuperset(conjunto_b))\n",
    "print(conjunto_b.issuperset(conjunto_a))"
   ]
  },
  {
   "cell_type": "markdown",
   "metadata": {},
   "source": [
    "7. {}.isdisjoint"
   ]
  },
  {
   "cell_type": "code",
   "execution_count": 19,
   "metadata": {},
   "outputs": [
    {
     "name": "stdout",
     "output_type": "stream",
     "text": [
      "True\n",
      "False\n"
     ]
    }
   ],
   "source": [
    "conjunto_a = {1, 2, 3, 4, 5}\n",
    "conjunto_b = {6, 7, 8, 9}\n",
    "conjunto_c = {1, 0}\n",
    "\n",
    "print(conjunto_a.isdisjoint(conjunto_b))\n",
    "print(conjunto_a.isdisjoint(conjunto_c))\n"
   ]
  },
  {
   "cell_type": "markdown",
   "metadata": {},
   "source": [
    "8. {}.add"
   ]
  },
  {
   "cell_type": "code",
   "execution_count": 20,
   "metadata": {},
   "outputs": [
    {
     "name": "stdout",
     "output_type": "stream",
     "text": [
      "{1, 2, 3, 4, 10}\n"
     ]
    }
   ],
   "source": [
    "conjunto_a = {1, 2}\n",
    "\n",
    "conjunto_a.add(3)\n",
    "conjunto_a.add(4)\n",
    "conjunto_a.add(10)\n",
    "\n",
    "print(conjunto_a)\n",
    "\n"
   ]
  },
  {
   "cell_type": "markdown",
   "metadata": {},
   "source": [
    "9. {}.clear"
   ]
  },
  {
   "cell_type": "code",
   "execution_count": 21,
   "metadata": {},
   "outputs": [
    {
     "name": "stdout",
     "output_type": "stream",
     "text": [
      "set()\n"
     ]
    }
   ],
   "source": [
    "conjunto_a = {1, 2}\n",
    "\n",
    "conjunto_a.clear()\n",
    "\n",
    "print(conjunto_a)"
   ]
  },
  {
   "cell_type": "markdown",
   "metadata": {},
   "source": [
    "10. {}.copy"
   ]
  },
  {
   "cell_type": "code",
   "execution_count": 23,
   "metadata": {},
   "outputs": [
    {
     "name": "stdout",
     "output_type": "stream",
     "text": [
      "conjunto a: set()\n",
      "conjunto b: {1, 2}\n"
     ]
    }
   ],
   "source": [
    "conjunto_a = {1, 2}\n",
    "\n",
    "#copiamos os valores para o conjunto b\n",
    "conjunto_b = conjunto_a.copy()\n",
    "\n",
    "#limpamos os valores do conjunto a\n",
    "conjunto_a.clear()\n",
    "\n",
    "#validandos o que aconteceu\n",
    "print(f'conjunto a: {conjunto_a}')\n",
    "print(f'conjunto b: {conjunto_b}')\n",
    "\n"
   ]
  },
  {
   "cell_type": "markdown",
   "metadata": {},
   "source": [
    "11. {}.discard"
   ]
  },
  {
   "cell_type": "code",
   "execution_count": 28,
   "metadata": {},
   "outputs": [
    {
     "name": "stdout",
     "output_type": "stream",
     "text": [
      "{1, 2, 3, 4, 5, 6, 7, 8, 9}\n",
      "{2, 3, 4, 5, 6, 7, 8, 9}\n",
      "{2, 3, 4, 5, 6, 7, 8, 9}\n"
     ]
    }
   ],
   "source": [
    "conjunto_a = {1, 2, 3, 4, 5, 6, 7, 7, 8, 9, 9}\n",
    "print(conjunto_a)\n",
    "\n",
    "conjunto_a.discard(1)\n",
    "print(conjunto_a)\n",
    "\n",
    "conjunto_a.discard(45)\n",
    "print(conjunto_a)\n"
   ]
  },
  {
   "cell_type": "markdown",
   "metadata": {},
   "source": [
    "12. {}.pop"
   ]
  },
  {
   "cell_type": "code",
   "execution_count": 29,
   "metadata": {},
   "outputs": [
    {
     "name": "stdout",
     "output_type": "stream",
     "text": [
      "{1, 2, 3, 4, 5, 6, 7, 8, 9}\n",
      "{2, 3, 4, 5, 6, 7, 8, 9}\n",
      "{3, 4, 5, 6, 7, 8, 9}\n"
     ]
    }
   ],
   "source": [
    "conjunto_a = {1, 2, 3, 4, 5, 6, 7, 7, 8, 9, 9}\n",
    "print(conjunto_a)\n",
    "\n",
    "conjunto_a.pop()\n",
    "print(conjunto_a)\n",
    "\n",
    "conjunto_a.pop()\n",
    "print(conjunto_a)"
   ]
  },
  {
   "cell_type": "markdown",
   "metadata": {},
   "source": [
    "13. {}.remove"
   ]
  },
  {
   "cell_type": "code",
   "execution_count": 31,
   "metadata": {},
   "outputs": [
    {
     "name": "stdout",
     "output_type": "stream",
     "text": [
      "{1, 2, 3, 4, 5, 6, 7, 8, 9}\n",
      "{2, 3, 4, 5, 6, 7, 8, 9}\n"
     ]
    }
   ],
   "source": [
    "conjunto_a = {1, 2, 3, 4, 5, 6, 7, 7, 8, 9, 9}\n",
    "print(conjunto_a)\n",
    "\n",
    "conjunto_a.remove(1)\n",
    "print(conjunto_a)\n"
   ]
  },
  {
   "cell_type": "markdown",
   "metadata": {},
   "source": [
    "14. len()"
   ]
  },
  {
   "cell_type": "code",
   "execution_count": 32,
   "metadata": {},
   "outputs": [
    {
     "data": {
      "text/plain": [
       "9"
      ]
     },
     "execution_count": 32,
     "metadata": {},
     "output_type": "execute_result"
    }
   ],
   "source": [
    "conjunto_a = {1, 2, 3, 4, 5, 6, 7, 7, 8, 9, 9}\n",
    "\n",
    "len(conjunto_a)"
   ]
  },
  {
   "cell_type": "markdown",
   "metadata": {},
   "source": [
    "15. in"
   ]
  },
  {
   "cell_type": "code",
   "execution_count": 33,
   "metadata": {},
   "outputs": [
    {
     "name": "stdout",
     "output_type": "stream",
     "text": [
      "True\n",
      "False\n"
     ]
    }
   ],
   "source": [
    "conjunto_a = {1, 2, 3, 4, 5, 6, 7, 7, 8, 9, 9}\n",
    "\n",
    "print(1 in conjunto_a)\n",
    "print(50 in conjunto_a)\n"
   ]
  },
  {
   "cell_type": "markdown",
   "metadata": {},
   "source": [
    "#### Dicionarios:"
   ]
  },
  {
   "cell_type": "markdown",
   "metadata": {},
   "source": [
    "##### Manipulação"
   ]
  },
  {
   "cell_type": "markdown",
   "metadata": {},
   "source": [
    "Conjunto não ordenado de chave: valor"
   ]
  },
  {
   "cell_type": "code",
   "execution_count": 34,
   "metadata": {},
   "outputs": [
    {
     "name": "stdout",
     "output_type": "stream",
     "text": [
      "{'nome': 'Ana', 'idade': 30, 'telefone': '99999-9999'}\n"
     ]
    }
   ],
   "source": [
    "# Exemplo de declaração\n",
    "pessoa = {'nome': 'Ana', 'idade': 30}\n",
    "\n",
    "outra_pessoa = dict(nome= 'Amanda', idade=20)\n",
    "\n",
    "#inclir novos valores em um dic já existente\n",
    "pessoa['telefone'] = '99999-9999'\n",
    "\n",
    "print(pessoa)\n"
   ]
  },
  {
   "cell_type": "code",
   "execution_count": 35,
   "metadata": {},
   "outputs": [
    {
     "name": "stdout",
     "output_type": "stream",
     "text": [
      "98777-7777\n"
     ]
    }
   ],
   "source": [
    "#dicionario aninhado\n",
    "contatos = {\n",
    "    'amanda@gmail.com':{'nome':'Amanda','telefone':'9999-9999'},\n",
    "    'giovana@gmail.com':{'nome':'Giovana','telefone':'98888-8888'},\n",
    "    'paulo@gmail.com':{'nome':'Paulo','telefone':'98777-7777'},\n",
    "    'elis@gmail.com':{'nome':'Elis','telefone':'98766-6666'},\n",
    "}\n",
    "\n",
    "print(contatos['paulo@gmail.com']['telefone'])"
   ]
  },
  {
   "cell_type": "markdown",
   "metadata": {},
   "source": [
    "* Iterar valores de um dicionario"
   ]
  },
  {
   "cell_type": "code",
   "execution_count": 36,
   "metadata": {},
   "outputs": [
    {
     "name": "stdout",
     "output_type": "stream",
     "text": [
      "amanda@gmail.com {'nome': 'Amanda', 'telefone': '9999-9999'}\n",
      "giovana@gmail.com {'nome': 'Giovana', 'telefone': '98888-8888'}\n",
      "paulo@gmail.com {'nome': 'Paulo', 'telefone': '98777-7777'}\n",
      "elis@gmail.com {'nome': 'Elis', 'telefone': '98766-6666'}\n"
     ]
    }
   ],
   "source": [
    "for chave_email in contatos:\n",
    "    print(chave_email, contatos[chave_email])"
   ]
  },
  {
   "cell_type": "code",
   "execution_count": 37,
   "metadata": {},
   "outputs": [
    {
     "name": "stdout",
     "output_type": "stream",
     "text": [
      "amanda@gmail.com {'nome': 'Amanda', 'telefone': '9999-9999'}\n",
      "giovana@gmail.com {'nome': 'Giovana', 'telefone': '98888-8888'}\n",
      "paulo@gmail.com {'nome': 'Paulo', 'telefone': '98777-7777'}\n",
      "elis@gmail.com {'nome': 'Elis', 'telefone': '98766-6666'}\n"
     ]
    }
   ],
   "source": [
    "for chave, valor in contatos.items():\n",
    "    print(chave, valor)"
   ]
  },
  {
   "cell_type": "markdown",
   "metadata": {},
   "source": [
    "##### Metodos da classe dict (dicionario):"
   ]
  },
  {
   "cell_type": "markdown",
   "metadata": {},
   "source": [
    "* {}.clear: limpar todos os dados de um dicionario"
   ]
  },
  {
   "cell_type": "code",
   "execution_count": 1,
   "metadata": {},
   "outputs": [
    {
     "name": "stdout",
     "output_type": "stream",
     "text": [
      "{}\n"
     ]
    }
   ],
   "source": [
    "contatos = {\n",
    "    'amanda@gmail.com':{'nome':'Amanda','telefone':'9999-9999'},\n",
    "    'giovana@gmail.com':{'nome':'Giovana','telefone':'98888-8888'},\n",
    "    'paulo@gmail.com':{'nome':'Paulo','telefone':'98777-7777'},\n",
    "    'elis@gmail.com':{'nome':'Elis','telefone':'98766-6666'},\n",
    "}\n",
    "\n",
    "contatos.clear()\n",
    "\n",
    "print(contatos)"
   ]
  },
  {
   "cell_type": "markdown",
   "metadata": {},
   "source": [
    "*{}.copy: copiar dados sem alterar o valor original"
   ]
  },
  {
   "cell_type": "code",
   "execution_count": 2,
   "metadata": {},
   "outputs": [
    {
     "name": "stdout",
     "output_type": "stream",
     "text": [
      "{'amanda@gmail.com': {'nome': 'Ama'}}\n",
      "{'amanda@gmail.com': {'nome': 'Amanda', 'telefone': '9999-9999'}}\n"
     ]
    }
   ],
   "source": [
    "contatos = {\n",
    "    'amanda@gmail.com':{'nome':'Amanda','telefone':'9999-9999'}\n",
    "}\n",
    "\n",
    "copia = contatos.copy()\n",
    "\n",
    "copia['amanda@gmail.com'] = {'nome':'Ama'}\n",
    "\n",
    "print(copia)\n",
    "print(contatos)"
   ]
  },
  {
   "cell_type": "markdown",
   "metadata": {},
   "source": [
    "*{}.fromkeys: metodo para criar dicionario com uma sequencia de chaves, com valor default:"
   ]
  },
  {
   "cell_type": "code",
   "execution_count": 5,
   "metadata": {},
   "outputs": [
    {
     "name": "stdout",
     "output_type": "stream",
     "text": [
      "{'nome': None, 'telefone': None}\n",
      "{'nome': 'vazio', 'telefone': 'vazio'}\n"
     ]
    }
   ],
   "source": [
    "#Criando um dicionario com chaves no valor default 'None'\n",
    "dicionario = dict.fromkeys(['nome','telefone'])\n",
    "print(dicionario)\n",
    "\n",
    "#Criando um dicionario com chaves no valor especificado:\n",
    "dicionario = dict.fromkeys(['nome', 'telefone'], 'vazio')\n",
    "print(dicionario)\n",
    "\n"
   ]
  },
  {
   "cell_type": "markdown",
   "metadata": {},
   "source": [
    "* {}.get: Serve para acessar valores, é uma alternativa melhor do que acessar diretamente pois ele não gera erro se não encontrar nenhum valor:"
   ]
  },
  {
   "cell_type": "code",
   "execution_count": 7,
   "metadata": {},
   "outputs": [
    {
     "name": "stdout",
     "output_type": "stream",
     "text": [
      "None\n",
      "{}\n",
      "{'nome': 'Amanda', 'telefone': '9999-9999'}\n"
     ]
    }
   ],
   "source": [
    "contatos = {\n",
    "    'amanda@gmail.com':{'nome':'Amanda','telefone':'9999-9999'}\n",
    "}\n",
    "\n",
    "'''\n",
    "A forma abaixo de acessar vai gerar um erro\n",
    "contatos['chave']\n",
    "\n",
    "Nesse caso é melhor utilizar o get\n",
    "'''\n",
    "\n",
    "print(contatos.get('chave'))\n",
    "print(contatos.get('chave', {}))\n",
    "print(contatos.get('amanda@gmail.com', {}))\n",
    "\n"
   ]
  },
  {
   "cell_type": "markdown",
   "metadata": {},
   "source": [
    "* {}.items: Exibe todos os itens de um dicionario"
   ]
  },
  {
   "cell_type": "code",
   "execution_count": 8,
   "metadata": {},
   "outputs": [
    {
     "data": {
      "text/plain": [
       "dict_items([('amanda@gmail.com', {'nome': 'Amanda', 'telefone': '9999-9999'})])"
      ]
     },
     "execution_count": 8,
     "metadata": {},
     "output_type": "execute_result"
    }
   ],
   "source": [
    "contatos = {\n",
    "    'amanda@gmail.com':{'nome':'Amanda','telefone':'9999-9999'}\n",
    "}\n",
    "\n",
    "contatos.items()"
   ]
  },
  {
   "cell_type": "markdown",
   "metadata": {},
   "source": [
    "* {}.keys: exibe as chaves de um dicionario"
   ]
  },
  {
   "cell_type": "code",
   "execution_count": 11,
   "metadata": {},
   "outputs": [
    {
     "name": "stdout",
     "output_type": "stream",
     "text": [
      "dict_keys(['amanda@gmail.com'])\n",
      "dict_keys(['nome', 'telefone'])\n"
     ]
    }
   ],
   "source": [
    "contatos = {\n",
    "    'amanda@gmail.com':{'nome':'Amanda','telefone':'9999-9999'}\n",
    "}\n",
    "\n",
    "print(contatos.keys())\n",
    "print(contatos['amanda@gmail.com'].keys())"
   ]
  },
  {
   "cell_type": "markdown",
   "metadata": {},
   "source": [
    "* {}.values: mostra os valores:"
   ]
  },
  {
   "cell_type": "code",
   "execution_count": 23,
   "metadata": {},
   "outputs": [
    {
     "data": {
      "text/plain": [
       "dict_values([{'nome': 'Amanda', 'telefone': '9999-9999'}, {'nome': 'Giovana', 'telefone': '98888-8888'}, {'nome': 'Paulo', 'telefone': '98777-7777'}, {'nome': 'Elis', 'telefone': '98766-6666'}])"
      ]
     },
     "execution_count": 23,
     "metadata": {},
     "output_type": "execute_result"
    }
   ],
   "source": [
    "contatos = {\n",
    "    'amanda@gmail.com':{'nome':'Amanda','telefone':'9999-9999'},\n",
    "    'giovana@gmail.com':{'nome':'Giovana','telefone':'98888-8888'},\n",
    "    'paulo@gmail.com':{'nome':'Paulo','telefone':'98777-7777'},\n",
    "    'elis@gmail.com':{'nome':'Elis','telefone':'98766-6666'},\n",
    "}\n",
    "\n",
    "contatos.values()"
   ]
  },
  {
   "cell_type": "markdown",
   "metadata": {},
   "source": [
    "* {}.pop: remove um elemento especifico:"
   ]
  },
  {
   "cell_type": "code",
   "execution_count": 15,
   "metadata": {},
   "outputs": [
    {
     "name": "stdout",
     "output_type": "stream",
     "text": [
      "{'paulo@gmail.com': {'nome': 'Paulo', 'telefone': '98777-7777'}}\n"
     ]
    }
   ],
   "source": [
    "contatos = {\n",
    "    'giovana@gmail.com':{'nome':'Giovana','telefone':'98888-8888'},\n",
    "    'paulo@gmail.com':{'nome':'Paulo','telefone':'98777-7777'}\n",
    "}\n",
    "\n",
    "contatos.pop('giovana@gmail.com')\n",
    "print(contatos)\n"
   ]
  },
  {
   "cell_type": "markdown",
   "metadata": {},
   "source": [
    "* {}.popitem: Remove o último item de um dicionario"
   ]
  },
  {
   "cell_type": "code",
   "execution_count": 16,
   "metadata": {},
   "outputs": [
    {
     "name": "stdout",
     "output_type": "stream",
     "text": [
      "{'giovana@gmail.com': {'nome': 'Giovana', 'telefone': '98888-8888'}}\n"
     ]
    }
   ],
   "source": [
    "contatos = {\n",
    "    'giovana@gmail.com':{'nome':'Giovana','telefone':'98888-8888'},\n",
    "    'paulo@gmail.com':{'nome':'Paulo','telefone':'98777-7777'}\n",
    "}\n",
    "\n",
    "contatos.popitem()\n",
    "print(contatos)"
   ]
  },
  {
   "cell_type": "markdown",
   "metadata": {},
   "source": [
    "* {}.setdefault: se a chave estiver presente, retorno o valor da chave solicitada, se a chave não estiver presente esse método cria uma chave com um valor padrão especificado e retorna esse valor:"
   ]
  },
  {
   "cell_type": "code",
   "execution_count": 19,
   "metadata": {},
   "outputs": [
    {
     "name": "stdout",
     "output_type": "stream",
     "text": [
      "{'nome': 'Guilherme', 'telefone': '3333-2221'}\n",
      "{'nome': 'Guilherme', 'telefone': '3333-2221', 'idade': 30}\n"
     ]
    }
   ],
   "source": [
    "contato = {'nome': 'Guilherme', 'telefone': '3333-2221'}\n",
    "\n",
    "contato.setdefault('nome', 'Giovanna')\n",
    "print(contato)\n",
    "\n",
    "contato.setdefault('idade', 30)\n",
    "print(contato)\n"
   ]
  },
  {
   "cell_type": "markdown",
   "metadata": {},
   "source": [
    "* {}.update: serve para atualizar o dicionariocom elementos de outro dicionario:"
   ]
  },
  {
   "cell_type": "code",
   "execution_count": 22,
   "metadata": {},
   "outputs": [
    {
     "name": "stdout",
     "output_type": "stream",
     "text": [
      "{'giovana@gmail.com': {'Nome': 'Gi'}}\n",
      "{'giovana@gmail.com': {'Nome': 'Gi'}, 'paulo@gmail.com': {'Nome': 'Paulo', 'telefone': '98777-7777'}}\n"
     ]
    }
   ],
   "source": [
    "contatos = {\n",
    "    'giovana@gmail.com':{'nome':'Giovana','telefone':'98888-8888'}\n",
    "}\n",
    "\n",
    "contatos.update({'giovana@gmail.com': {'Nome': 'Gi'}})\n",
    "print(contatos)\n",
    "\n",
    "contatos.update({'paulo@gmail.com': {'Nome':'Paulo', 'telefone': '98777-7777'}})\n",
    "print(contatos)"
   ]
  },
  {
   "cell_type": "markdown",
   "metadata": {},
   "source": [
    "* in: serve para validar se um elemento pertence ao dicionario"
   ]
  },
  {
   "cell_type": "code",
   "execution_count": 25,
   "metadata": {},
   "outputs": [
    {
     "name": "stdout",
     "output_type": "stream",
     "text": [
      "True\n",
      "False\n",
      "True\n"
     ]
    }
   ],
   "source": [
    "contatos = {\n",
    "    'amanda@gmail.com':{'nome':'Amanda','telefone':'9999-9999'},\n",
    "    'giovana@gmail.com':{'nome':'Giovana','telefone':'98888-8888'},\n",
    "    'paulo@gmail.com':{'nome':'Paulo','telefone':'98777-7777'},\n",
    "    'elis@gmail.com':{'nome':'Elis','telefone':'98766-6666'},\n",
    "}\n",
    "\n",
    "print('amanda@gmail.com' in contatos)\n",
    "print('teste@gmail.com' in contatos)\n",
    "print('telefone' in contatos['giovana@gmail.com'])"
   ]
  },
  {
   "cell_type": "markdown",
   "metadata": {},
   "source": [
    "* del: serve para excluir pares chave/valor de um dicionario"
   ]
  },
  {
   "cell_type": "code",
   "execution_count": 27,
   "metadata": {},
   "outputs": [
    {
     "name": "stdout",
     "output_type": "stream",
     "text": [
      "{'nome': 'Amanda'}\n",
      "{'amanda@gmail.com': {'nome': 'Amanda'}, 'paulo@gmail.com': {'nome': 'Paulo', 'telefone': '98777-7777'}, 'elis@gmail.com': {'nome': 'Elis', 'telefone': '98766-6666'}}\n"
     ]
    }
   ],
   "source": [
    "contatos = {\n",
    "    'amanda@gmail.com':{'nome':'Amanda','telefone':'9999-9999'},\n",
    "    'giovana@gmail.com':{'nome':'Giovana','telefone':'98888-8888'},\n",
    "    'paulo@gmail.com':{'nome':'Paulo','telefone':'98777-7777'},\n",
    "    'elis@gmail.com':{'nome':'Elis','telefone':'98766-6666'},\n",
    "}\n",
    "\n",
    "del contatos['amanda@gmail.com']['telefone']\n",
    "print(contatos['amanda@gmail.com'])\n",
    "\n",
    "del contatos['giovana@gmail.com']\n",
    "print(contatos)"
   ]
  },
  {
   "cell_type": "markdown",
   "metadata": {},
   "source": [
    "##### Outras manipulações com dicionarios:"
   ]
  },
  {
   "cell_type": "markdown",
   "metadata": {},
   "source": [
    "1. Filtro"
   ]
  },
  {
   "cell_type": "code",
   "execution_count": 1,
   "metadata": {},
   "outputs": [
    {
     "name": "stdout",
     "output_type": "stream",
     "text": [
      "{'b': 2, 'd': 4}\n",
      "{'a': 1, 'e': 5}\n"
     ]
    }
   ],
   "source": [
    "dicionario = {'a': 1, 'b': 2, 'c':3, 'd': 4, 'e':5}\n",
    "\n",
    "\n",
    "#Filtrando apenas valores pares\n",
    "dicionario_pares = {chave: valor for chave, valor in dicionario.items() if valor % 2 == 0}\n",
    "\n",
    "#Filtrando apenas chaves vogais\n",
    "dicionario_vogais = {chave: valor for chave, valor in dicionario.items() if chave in {'a', 'e', 'i', 'o' 'u'}}\n",
    "\n",
    "print(dicionario_pares)\n",
    "print(dicionario_vogais)\n"
   ]
  },
  {
   "cell_type": "markdown",
   "metadata": {},
   "source": [
    "2. Soma de valores:"
   ]
  },
  {
   "cell_type": "code",
   "execution_count": 3,
   "metadata": {},
   "outputs": [
    {
     "name": "stdout",
     "output_type": "stream",
     "text": [
      "15\n"
     ]
    }
   ],
   "source": [
    "dicionario = {'a': 1, 'b': 2, 'c':3, 'd': 4, 'e':5}\n",
    "\n",
    "total = sum(dicionario.values())\n",
    "\n",
    "print(total)"
   ]
  },
  {
   "cell_type": "markdown",
   "metadata": {},
   "source": [
    "3. Contando valores:"
   ]
  },
  {
   "cell_type": "code",
   "execution_count": 4,
   "metadata": {},
   "outputs": [
    {
     "name": "stdout",
     "output_type": "stream",
     "text": [
      "2\n"
     ]
    }
   ],
   "source": [
    "dicionario = {'a': 1, 'b': 2, 'c':3, 'd': 4, 'e':5}\n",
    "\n",
    "#Filtrando apenas valores pares\n",
    "dicionario_pares = {chave: valor for chave, valor in dicionario.items() if valor % 2 == 0}\n",
    "\n",
    "# Exibindo a quantidade de valores pares\n",
    "print(len(dicionario_pares))\n"
   ]
  },
  {
   "cell_type": "markdown",
   "metadata": {},
   "source": [
    "4 . Utilizando .next() para procurar valores a partir de dicionarios dentro de uma lista"
   ]
  },
  {
   "cell_type": "code",
   "execution_count": 5,
   "metadata": {},
   "outputs": [
    {
     "name": "stdout",
     "output_type": "stream",
     "text": [
      "{'a': 7, 'b': 8, 'c': 9}\n"
     ]
    }
   ],
   "source": [
    "lista = [{'a': 1, 'b': 2, 'c':3},\n",
    "         {'a': 4, 'b': 5, 'c':6},\n",
    "         {'a': 7, 'b': 8, 'c':9}]\n",
    "\n",
    "a_procurado = 7\n",
    "\n",
    "dicionario_de_a = next(dicionario for dicionario in lista if dicionario['a']==a_procurado)\n",
    "\n",
    "\n",
    "print(dicionario_de_a)"
   ]
  },
  {
   "cell_type": "markdown",
   "metadata": {},
   "source": [
    "5. Usando .max() em uma lista dentro de um dicionario"
   ]
  },
  {
   "cell_type": "code",
   "execution_count": 6,
   "metadata": {},
   "outputs": [
    {
     "name": "stdout",
     "output_type": "stream",
     "text": [
      "7\n"
     ]
    }
   ],
   "source": [
    "lista = [{'a': 1, 'b': 2, 'c':3},\n",
    "         {'a': 4, 'b': 5, 'c':6},\n",
    "         {'a': 7, 'b': 8, 'c':9}]\n",
    "\n",
    "maior_valor_de_a = max(num['a'] for num in lista)\n",
    "\n",
    "print(maior_valor_de_a)\n"
   ]
  }
 ],
 "metadata": {
  "kernelspec": {
   "display_name": "Python 3",
   "language": "python",
   "name": "python3"
  },
  "language_info": {
   "codemirror_mode": {
    "name": "ipython",
    "version": 3
   },
   "file_extension": ".py",
   "mimetype": "text/x-python",
   "name": "python",
   "nbconvert_exporter": "python",
   "pygments_lexer": "ipython3",
   "version": "3.11.1"
  }
 },
 "nbformat": 4,
 "nbformat_minor": 2
}
