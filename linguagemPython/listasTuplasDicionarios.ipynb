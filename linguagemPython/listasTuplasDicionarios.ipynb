{
 "cells": [
  {
   "cell_type": "markdown",
   "metadata": {},
   "source": [
    "### Listas Tupas e Dicionarios:"
   ]
  },
  {
   "cell_type": "markdown",
   "metadata": {},
   "source": [
    "#### Listas:"
   ]
  },
  {
   "cell_type": "code",
   "execution_count": 1,
   "metadata": {},
   "outputs": [
    {
     "name": "stdout",
     "output_type": "stream",
     "text": [
      "['maça', 'laranja', 'uva']\n",
      "['p', 'y', 't', 'h', 'o', 'n']\n",
      "['maça', 'laranja', 1, 5.6, 'uva']\n"
     ]
    }
   ],
   "source": [
    "#Criação de listas\n",
    "lista1 = list()\n",
    "lista2 = []\n",
    "\n",
    "#Exemplo de listas preenchidos\n",
    "frutas = ['maça', 'laranja', 'uva']\n",
    "letras = list('python')\n",
    "variados = ['maça', 'laranja', 1, 5.6,'uva']\n",
    "\n",
    "print(frutas)\n",
    "print(letras)\n",
    "print(variados)"
   ]
  },
  {
   "cell_type": "markdown",
   "metadata": {},
   "source": [
    "##### Manipulação:"
   ]
  },
  {
   "cell_type": "markdown",
   "metadata": {},
   "source": [
    "* Acesso Direto:"
   ]
  },
  {
   "cell_type": "code",
   "execution_count": 3,
   "metadata": {},
   "outputs": [
    {
     "name": "stdout",
     "output_type": "stream",
     "text": [
      "indice 0: maça\n",
      "indice 1: laranja\n",
      "indice 2: uva\n"
     ]
    }
   ],
   "source": [
    "# Acessando dados de uma lista pelo posição:\n",
    "frutas = ['maça', 'laranja', 'uva']\n",
    "\n",
    "# A primeira posição é sempre 0:\n",
    "print(f'indice 0: {frutas[0]}')\n",
    "print(f'indice 1: {frutas[1]}')\n",
    "print(f'indice 2: {frutas[2]}')"
   ]
  },
  {
   "cell_type": "markdown",
   "metadata": {},
   "source": [
    "* Índices Negativos:"
   ]
  },
  {
   "cell_type": "code",
   "execution_count": 4,
   "metadata": {},
   "outputs": [
    {
     "name": "stdout",
     "output_type": "stream",
     "text": [
      "indice -1: pera\n",
      "indice -2: uva\n",
      "indice -3: laranja\n",
      "indice -4: maça\n"
     ]
    }
   ],
   "source": [
    "# A última posição é sempre -1 a antepenultima -2, assim sucessivamente: \n",
    "frutas = ['maça', 'laranja', 'uva', 'pera']\n",
    "\n",
    "print(f'indice -1: {frutas[-1]}')\n",
    "print(f'indice -2: {frutas[-2]}')\n",
    "print(f'indice -3: {frutas[-3]}')\n",
    "print(f'indice -4: {frutas[-4]}')"
   ]
  },
  {
   "cell_type": "markdown",
   "metadata": {},
   "source": [
    "* Listas aninhadas (ex: matrizes)"
   ]
  },
  {
   "cell_type": "code",
   "execution_count": 9,
   "metadata": {},
   "outputs": [
    {
     "name": "stdout",
     "output_type": "stream",
     "text": [
      "[1, 'a', 2]\n",
      "['b', 3, 4]\n",
      "[6, 5, 'c']\n",
      "\n",
      "1 a 2 \n",
      "b 3 4 \n",
      "6 5 c "
     ]
    }
   ],
   "source": [
    "matriz = [\n",
    "    [1,'a',2],\n",
    "    ['b',3,4],\n",
    "    [6,5,'c']\n",
    "]\n",
    "#visualizando as listas dentro da matriz\n",
    "print(matriz[0])\n",
    "print(matriz[1])\n",
    "print(matriz[2])\n",
    "\n",
    "# Visualizando indice por indice de uma matriz:\n",
    "print(f'\\n{matriz[0][0]}', end=' ')\n",
    "print(f'{matriz[0][1]}', end=' ')\n",
    "print(f'{matriz[0][2]}', end=' ')\n",
    "\n",
    "print(f'\\n{matriz[1][0]}', end=' ')\n",
    "print(f'{matriz[1][1]}', end=' ')\n",
    "print(f'{matriz[1][2]}', end=' ')\n",
    "\n",
    "print(f'\\n{matriz[2][0]}', end=' ')\n",
    "print(f'{matriz[2][1]}', end=' ')\n",
    "print(f'{matriz[2][2]}', end=' ')"
   ]
  },
  {
   "cell_type": "markdown",
   "metadata": {},
   "source": [
    "* Fatiamento"
   ]
  },
  {
   "cell_type": "code",
   "execution_count": 15,
   "metadata": {},
   "outputs": [],
   "source": [
    "letras = list('python')"
   ]
  },
  {
   "cell_type": "code",
   "execution_count": 16,
   "metadata": {},
   "outputs": [
    {
     "data": {
      "text/plain": [
       "['t', 'h', 'o', 'n']"
      ]
     },
     "execution_count": 16,
     "metadata": {},
     "output_type": "execute_result"
    }
   ],
   "source": [
    "#Selecionar do terceiro elemento em diante\n",
    "letras[2:]"
   ]
  },
  {
   "cell_type": "code",
   "execution_count": 17,
   "metadata": {},
   "outputs": [
    {
     "data": {
      "text/plain": [
       "['p', 'y']"
      ]
     },
     "execution_count": 17,
     "metadata": {},
     "output_type": "execute_result"
    }
   ],
   "source": [
    "#Selecionar do começo até o terceiro elemento\n",
    "letras[:2]"
   ]
  },
  {
   "cell_type": "code",
   "execution_count": 18,
   "metadata": {},
   "outputs": [
    {
     "data": {
      "text/plain": [
       "['y', 't']"
      ]
     },
     "execution_count": 18,
     "metadata": {},
     "output_type": "execute_result"
    }
   ],
   "source": [
    "# Selecionar do segundo elemento até terceiro\n",
    "letras[1:3]"
   ]
  },
  {
   "cell_type": "code",
   "execution_count": 19,
   "metadata": {},
   "outputs": [
    {
     "data": {
      "text/plain": [
       "['p', 'y', 't', 'h', 'o', 'n']"
      ]
     },
     "execution_count": 19,
     "metadata": {},
     "output_type": "execute_result"
    }
   ],
   "source": [
    "# Visualizar toda a lista\n",
    "letras[::]"
   ]
  },
  {
   "cell_type": "code",
   "execution_count": 20,
   "metadata": {},
   "outputs": [
    {
     "data": {
      "text/plain": [
       "['n', 'o', 'h', 't', 'y', 'p']"
      ]
     },
     "execution_count": 20,
     "metadata": {},
     "output_type": "execute_result"
    }
   ],
   "source": [
    "# Visualizar toda a lista invertida\n",
    "letras[::-1]"
   ]
  },
  {
   "cell_type": "markdown",
   "metadata": {},
   "source": [
    "* Iterar (percorrer) listas"
   ]
  },
  {
   "cell_type": "code",
   "execution_count": 21,
   "metadata": {},
   "outputs": [
    {
     "name": "stdout",
     "output_type": "stream",
     "text": [
      "1\n",
      "2\n",
      "3\n"
     ]
    }
   ],
   "source": [
    "lista_de_nums = [1, 2, 3]\n",
    "\n",
    "for num in lista_de_nums:\n",
    "    print(num)"
   ]
  },
  {
   "cell_type": "markdown",
   "metadata": {},
   "source": [
    "* "
   ]
  }
 ],
 "metadata": {
  "kernelspec": {
   "display_name": "Python 3",
   "language": "python",
   "name": "python3"
  },
  "language_info": {
   "codemirror_mode": {
    "name": "ipython",
    "version": 3
   },
   "file_extension": ".py",
   "mimetype": "text/x-python",
   "name": "python",
   "nbconvert_exporter": "python",
   "pygments_lexer": "ipython3",
   "version": "3.11.1"
  }
 },
 "nbformat": 4,
 "nbformat_minor": 2
}
