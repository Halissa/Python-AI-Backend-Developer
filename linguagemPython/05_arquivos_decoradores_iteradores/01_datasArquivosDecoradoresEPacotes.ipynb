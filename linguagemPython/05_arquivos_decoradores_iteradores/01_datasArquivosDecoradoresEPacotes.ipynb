{
 "cells": [
  {
   "cell_type": "markdown",
   "metadata": {},
   "source": [
    "### Decoradores, Iteradores e Geradores com Python:"
   ]
  },
  {
   "cell_type": "markdown",
   "metadata": {},
   "source": [
    "#### Decoradores:"
   ]
  },
  {
   "cell_type": "markdown",
   "metadata": {},
   "source": [
    "\n",
    "##### Inner Function: Função interna\n"
   ]
  },
  {
   "cell_type": "code",
   "execution_count": 3,
   "metadata": {},
   "outputs": [
    {
     "name": "stdout",
     "output_type": "stream",
     "text": [
      "executando executar\n",
      "executando nome\n",
      "Oi Ana\n"
     ]
    }
   ],
   "source": [
    "# Escopo Global\n",
    "def mensagem(nome):\n",
    "    print('executando nome')\n",
    "    return f'Oi {nome}'\n",
    "\n",
    "# Escopo Global\n",
    "def mensagem_long(nome):\n",
    "    print('executando mensagem longa')\n",
    "    return f'Olá tudo bem com você{nome}'\n",
    "\n",
    "# Função com retorno de função\n",
    "def executar(funcao, nome):\n",
    "    print('executando executar')\n",
    "    return funcao(nome)\n",
    "\n",
    "\n",
    "print(executar(mensagem, 'Ana'))"
   ]
  },
  {
   "cell_type": "code",
   "execution_count": 4,
   "metadata": {},
   "outputs": [
    {
     "name": "stdout",
     "output_type": "stream",
     "text": [
      "executando a funcao principal\n",
      "executando a funcao interna 1\n",
      "executando a funcao interna 2\n"
     ]
    }
   ],
   "source": [
    "# Função interna\n",
    "\n",
    "def principal():\n",
    "    print('executando a funcao principal')\n",
    "    # Escopo Local\n",
    "    def funcao_interna_1():\n",
    "        print('executando a funcao interna 1')\n",
    "    # Escopo Local\n",
    "    def funcao_interna_2():\n",
    "        print('executando a funcao interna 2')\n",
    "    # Chamada de função do escopo local localmente\n",
    "    funcao_interna_1()\n",
    "    funcao_interna_2()\n",
    "\n",
    "\n",
    "principal()"
   ]
  },
  {
   "cell_type": "code",
   "execution_count": 9,
   "metadata": {},
   "outputs": [
    {
     "name": "stdout",
     "output_type": "stream",
     "text": [
      "4 \n",
      "\n",
      "4\n",
      "0\n",
      "4\n",
      "1.0\n"
     ]
    }
   ],
   "source": [
    "# Exemplo calculadora\n",
    "def calculadora(operacao):\n",
    "    def soma(a, b):\n",
    "        return a + b\n",
    "    def subtracao(a, b):\n",
    "        return a - b\n",
    "    def multiplicacao(a, b):\n",
    "        return a * b\n",
    "    def divisao(a, b):\n",
    "        return a/ b\n",
    "    \n",
    "\n",
    "    match operacao:\n",
    "        case '+':\n",
    "            return soma\n",
    "        case '-':\n",
    "            return subtracao\n",
    "        case '*':\n",
    "            return multiplicacao\n",
    "        case '/':\n",
    "            return divisao\n",
    "        \n",
    "# Primeira forma de utilizar uma função que retorna outra:\n",
    "print(calculadora('+')(2,2),'\\n')\n",
    "\n",
    "# Segunda forma de utilizar uma função que retorna outra:\n",
    "op = calculadora('+')\n",
    "print(op(2, 2))\n",
    "op = calculadora('-')\n",
    "print(op(2, 2))\n",
    "op = calculadora('*')\n",
    "print(op(2, 2))\n",
    "op = calculadora('/')\n",
    "print(op(2, 2))\n",
    "        "
   ]
  },
  {
   "cell_type": "markdown",
   "metadata": {},
   "source": [
    "##### decorador:"
   ]
  },
  {
   "cell_type": "code",
   "execution_count": 10,
   "metadata": {},
   "outputs": [
    {
     "name": "stdout",
     "output_type": "stream",
     "text": [
      "faz algo antes de executar\n",
      "Olá mundo!\n",
      "faz algo depois de executar\n"
     ]
    }
   ],
   "source": [
    "def meu_decorador(funcao):\n",
    "    def envelope():\n",
    "        print(\"faz algo antes de executar\")\n",
    "        funcao()\n",
    "        print(\"faz algo depois de executar\")\n",
    "\n",
    "    return envelope\n",
    "\n",
    "\n",
    "def ola_mundo():\n",
    "    print(\"Olá mundo!\")\n",
    "\n",
    "\n",
    "ola_mundo = meu_decorador(ola_mundo)\n",
    "ola_mundo()"
   ]
  },
  {
   "cell_type": "markdown",
   "metadata": {},
   "source": [
    "* Açúcar Sintático de decoradores: para não precisar chamar a função dentro de uma variavel:"
   ]
  },
  {
   "cell_type": "code",
   "execution_count": 11,
   "metadata": {},
   "outputs": [
    {
     "name": "stdout",
     "output_type": "stream",
     "text": [
      "faz algo antes de executar\n",
      "Olá mundo!\n",
      "faz algo depois de executar\n"
     ]
    }
   ],
   "source": [
    "def meu_decorador(funcao):\n",
    "    def envelope():\n",
    "        print(\"faz algo antes de executar\")\n",
    "        funcao()\n",
    "        print(\"faz algo depois de executar\")\n",
    "\n",
    "    return envelope\n",
    "\n",
    "@meu_decorador\n",
    "def ola_mundo():\n",
    "    print(\"Olá mundo!\")\n",
    "\n",
    "\n",
    "ola_mundo()"
   ]
  },
  {
   "cell_type": "markdown",
   "metadata": {},
   "source": [
    "* Decoradores com argumentos usando *args e *kwargs"
   ]
  },
  {
   "cell_type": "code",
   "execution_count": 15,
   "metadata": {},
   "outputs": [
    {
     "name": "stdout",
     "output_type": "stream",
     "text": [
      "faz algo antes de executar\n",
      "Olá mundo Ana!\n",
      "faz algo depois de executar\n"
     ]
    }
   ],
   "source": [
    "def meu_decorador(funcao):\n",
    "    def envelope(*args, **kwargs):\n",
    "        print(\"faz algo antes de executar\")\n",
    "        # Executando a função\n",
    "        funcao(*args, **kwargs)\n",
    "        print(\"faz algo depois de executar\")\n",
    "\n",
    "    return envelope\n",
    "\n",
    "\n",
    "@meu_decorador\n",
    "def ola_mundo(nome):\n",
    "    print(f\"Olá mundo {nome}!\")\n",
    "\n",
    "\n",
    "ola_mundo('Ana')"
   ]
  },
  {
   "cell_type": "markdown",
   "metadata": {},
   "source": [
    "- Decoradores com *args **kwargs e retorno:"
   ]
  },
  {
   "cell_type": "code",
   "execution_count": 17,
   "metadata": {},
   "outputs": [
    {
     "name": "stdout",
     "output_type": "stream",
     "text": [
      "faz algo antes de executar\n",
      "Olá mundo João!\n",
      "faz algo depois de executar\n",
      "JOÃO\n"
     ]
    }
   ],
   "source": [
    "def meu_decorador(funcao):\n",
    "    def envelope(*args, **kwargs):\n",
    "        print(\"faz algo antes de executar\")\n",
    "        resultado = funcao(*args, **kwargs)\n",
    "        print(\"faz algo depois de executar\")\n",
    "        return resultado\n",
    "\n",
    "    return envelope\n",
    "\n",
    "\n",
    "@meu_decorador\n",
    "def ola_mundo(nome, outro_argumento):\n",
    "    print(f\"Olá mundo {nome}!\")\n",
    "    return nome.upper()\n",
    "\n",
    "\n",
    "resultado = ola_mundo(\"João\", 1000)\n",
    "print(resultado)\n"
   ]
  },
  {
   "cell_type": "markdown",
   "metadata": {},
   "source": [
    "* Para não perder o nome das funções temos que utilizar functools:"
   ]
  },
  {
   "cell_type": "code",
   "execution_count": 18,
   "metadata": {},
   "outputs": [
    {
     "name": "stdout",
     "output_type": "stream",
     "text": [
      "ola_mundo\n"
     ]
    }
   ],
   "source": [
    "import functools\n",
    "\n",
    "def meu_decorador(funcao):\n",
    "    @functools.wraps(funcao)\n",
    "    def envelope(*args, **kwargs):\n",
    "        resultado = funcao(*args, **kwargs)\n",
    "        return resultado\n",
    "\n",
    "    return envelope\n",
    "\n",
    "\n",
    "@meu_decorador\n",
    "def ola_mundo(nome, outro_argumento):\n",
    "    print(f\"Olá mundo {nome}!\")\n",
    "\n",
    "\n",
    "print(ola_mundo.__name__)\n"
   ]
  },
  {
   "cell_type": "markdown",
   "metadata": {},
   "source": [
    "#### Iteradores:"
   ]
  },
  {
   "cell_type": "markdown",
   "metadata": {},
   "source": [
    "É um objeto que tem um numero contável de valores que podem ser iterados. Possui dois metodos especiais:\n",
    "```python\n",
    "__inter__()\n",
    "```\n",
    "```python\n",
    "__next__()\n",
    "```"
   ]
  },
  {
   "cell_type": "code",
   "execution_count": 22,
   "metadata": {},
   "outputs": [
    {
     "name": "stdout",
     "output_type": "stream",
     "text": [
      "2\n",
      "4\n",
      "6\n",
      "76\n",
      "26\n",
      "24\n"
     ]
    }
   ],
   "source": [
    "# Exemplo de interador que multiplica os números por 2\n",
    "class MeuIterador():\n",
    "    def __init__(self, numeros: list[int]):\n",
    "        self.numeros = numeros\n",
    "        self.contador = 0\n",
    "    # retorno\n",
    "    def __iter__(self):\n",
    "        return self\n",
    "    # próximo item\n",
    "    def __next__(self):\n",
    "        try:\n",
    "            numero = self.numeros[self.contador]\n",
    "            self.contador += 1\n",
    "            return numero * 2\n",
    "        except IndexError:\n",
    "            raise StopIteration\n",
    "\n",
    "for i in MeuIterador(numeros=[1, 2, 3, 38, 13, 12]):\n",
    "    print(i)"
   ]
  },
  {
   "cell_type": "markdown",
   "metadata": {},
   "source": [
    "#### Geradores:"
   ]
  },
  {
   "cell_type": "markdown",
   "metadata": {},
   "source": [
    "São tipos especiais de iteradores que economizam muito mais memoria\n",
    "obs: no retorno ao invés de utilizar return os geradores utilizam yield:\n",
    "\n",
    "__obs__ utilizamos quando o codigo for simples, por exemplo multiplicar os valores de uma lista por 2, quando precisamos fazer algo mais complexo, por exemplo uma árvore binária "
   ]
  },
  {
   "cell_type": "code",
   "execution_count": 24,
   "metadata": {},
   "outputs": [
    {
     "name": "stdout",
     "output_type": "stream",
     "text": [
      "2\n",
      "4\n",
      "6\n",
      "8\n"
     ]
    }
   ],
   "source": [
    "# Exemplo de gerador:\n",
    "def meu_gerador(numeros: list[int]):\n",
    "    for num in numeros:\n",
    "        yield num * 2\n",
    "\n",
    "for i in meu_gerador(numeros=[1, 2, 3, 4]):\n",
    "    print(i)"
   ]
  },
  {
   "cell_type": "markdown",
   "metadata": {},
   "source": [
    "#### Datas e Horas:"
   ]
  },
  {
   "cell_type": "code",
   "execution_count": 57,
   "metadata": {},
   "outputs": [],
   "source": [
    "# Os principais modulos todos juntos\n",
    "from datetime import date, datetime, time, timedelta"
   ]
  },
  {
   "cell_type": "code",
   "execution_count": 38,
   "metadata": {},
   "outputs": [],
   "source": [
    "# modulo data e hora\n",
    "from datetime import datetime"
   ]
  },
  {
   "cell_type": "code",
   "execution_count": 43,
   "metadata": {},
   "outputs": [],
   "source": [
    "# modulo data\n",
    "from datetime import date"
   ]
  },
  {
   "cell_type": "code",
   "execution_count": null,
   "metadata": {},
   "outputs": [],
   "source": [
    "# modulo hora\n",
    "from datetime import time"
   ]
  },
  {
   "cell_type": "code",
   "execution_count": null,
   "metadata": {},
   "outputs": [],
   "source": [
    "# modulo para calculo de data\n",
    "from datetime import timedelta"
   ]
  },
  {
   "cell_type": "markdown",
   "metadata": {},
   "source": [
    "- Exemplos data/hora"
   ]
  },
  {
   "cell_type": "code",
   "execution_count": 45,
   "metadata": {},
   "outputs": [
    {
     "name": "stdout",
     "output_type": "stream",
     "text": [
      "2024-06-20 10:50:20\n"
     ]
    }
   ],
   "source": [
    "# datetime(ano, mes, dia, hora, minuto, segundo)\n",
    "data_hora = datetime(2024, 6, 20, 10, 50, 20)\n",
    "print(data_hora)"
   ]
  },
  {
   "cell_type": "code",
   "execution_count": 46,
   "metadata": {},
   "outputs": [
    {
     "name": "stdout",
     "output_type": "stream",
     "text": [
      "2024-06-24 14:59:46.533671\n"
     ]
    }
   ],
   "source": [
    "# Data e Hora de hoje\n",
    "data_hora_hoje = datetime.today()\n",
    "print(data_hora_hoje)"
   ]
  },
  {
   "cell_type": "markdown",
   "metadata": {},
   "source": [
    "- Exemplos dia"
   ]
  },
  {
   "cell_type": "code",
   "execution_count": 31,
   "metadata": {},
   "outputs": [
    {
     "name": "stdout",
     "output_type": "stream",
     "text": [
      "2024-06-10\n"
     ]
    }
   ],
   "source": [
    "# date(ano, mes, dia)\n",
    "data = date(2024, 6, 10)\n",
    "print(data)"
   ]
  },
  {
   "cell_type": "code",
   "execution_count": 32,
   "metadata": {},
   "outputs": [
    {
     "name": "stdout",
     "output_type": "stream",
     "text": [
      "2024-06-24\n"
     ]
    }
   ],
   "source": [
    "# Dia Hoje\n",
    "hoje = date.today()\n",
    "print(hoje)"
   ]
  },
  {
   "cell_type": "markdown",
   "metadata": {},
   "source": [
    "- Exemplos hora"
   ]
  },
  {
   "cell_type": "code",
   "execution_count": 50,
   "metadata": {},
   "outputs": [
    {
     "name": "stdout",
     "output_type": "stream",
     "text": [
      "10:20:00\n"
     ]
    }
   ],
   "source": [
    "# Hora\n",
    "hora = time(10, 20, 0)\n",
    "print(hora)"
   ]
  },
  {
   "cell_type": "markdown",
   "metadata": {},
   "source": [
    "- Manipulação:"
   ]
  },
  {
   "cell_type": "code",
   "execution_count": 61,
   "metadata": {},
   "outputs": [
    {
     "name": "stdout",
     "output_type": "stream",
     "text": [
      "O carro chegou: 2024-06-24 15:19:00.055722 e ficará pronto às 2024-06-24 16:19:00.055722\n"
     ]
    }
   ],
   "source": [
    "# Timedelta\n",
    "tipo_carro = 'p'\n",
    "data_atual = datetime.now()\n",
    "\n",
    "if tipo_carro == 'P':\n",
    "    tempo = 30\n",
    "elif tipo_carro == 'M':\n",
    "    tempo = 45\n",
    "else:\n",
    "    tempo = 60\n",
    "    \n",
    "    \n",
    "data_estimada = data_atual + timedelta(minutes=tempo)\n",
    "\n",
    "print(f'O carro chegou: {data_atual} e ficará pronto às {data_estimada}')"
   ]
  },
  {
   "cell_type": "markdown",
   "metadata": {},
   "source": [
    "- Formatação"
   ]
  },
  {
   "cell_type": "code",
   "execution_count": 67,
   "metadata": {},
   "outputs": [
    {
     "name": "stdout",
     "output_type": "stream",
     "text": [
      "24/06/2024 15:34\n"
     ]
    }
   ],
   "source": [
    "agora = datetime.now()\n",
    "print(agora.strftime('%d/%m/%Y %H:%M'))"
   ]
  },
  {
   "cell_type": "code",
   "execution_count": 68,
   "metadata": {},
   "outputs": [
    {
     "name": "stdout",
     "output_type": "stream",
     "text": [
      "24/06/2024 15:36\n",
      "24/06/2024\n",
      "15:36\n"
     ]
    }
   ],
   "source": [
    "# Utilizando máscaras\n",
    "agora = datetime.now()\n",
    "\n",
    "mascara_dia_hora_ptbr = '%d/%m/%Y %H:%M'\n",
    "mascara_dia_ptbr = '%d/%m/%Y'\n",
    "mascara_hora_ptbr = '%H:%M'\n",
    "\n",
    "print(agora.strftime(mascara_dia_hora_ptbr))\n",
    "print(agora.strftime(mascara_dia_ptbr))\n",
    "print(agora.strftime(mascara_hora_ptbr))"
   ]
  },
  {
   "cell_type": "markdown",
   "metadata": {},
   "source": [
    "- Timezone com pytz"
   ]
  },
  {
   "cell_type": "code",
   "execution_count": 75,
   "metadata": {},
   "outputs": [
    {
     "name": "stdout",
     "output_type": "stream",
     "text": [
      "2024-06-24 20:59:02.593805+02:00\n",
      "2024-06-24 15:59:02.593805-03:00\n"
     ]
    }
   ],
   "source": [
    "import pytz\n",
    "from datetime import datetime\n",
    "\n",
    "data = datetime.now(pytz.timezone('Europe/Oslo'))\n",
    "data2 = datetime.now(pytz.timezone('America/Sao_Paulo'))\n",
    "\n",
    "print(data)\n",
    "print(data2)\n"
   ]
  },
  {
   "cell_type": "markdown",
   "metadata": {},
   "source": [
    "- Timezone sem pytz"
   ]
  },
  {
   "cell_type": "code",
   "execution_count": 76,
   "metadata": {},
   "outputs": [
    {
     "name": "stdout",
     "output_type": "stream",
     "text": [
      "2024-06-24 20:59:04.964524+02:00\n",
      "2024-06-24 15:59:04.964524-03:00\n"
     ]
    }
   ],
   "source": [
    "from datetime import datetime, timedelta, timezone\n",
    "\n",
    "data_oslo = datetime.now(timezone(timedelta(hours=2)))\n",
    "data_sao_paulo = datetime.now(timezone(timedelta(hours=-3)))\n",
    "\n",
    "print(data_oslo)\n",
    "print(data_sao_paulo)"
   ]
  },
  {
   "cell_type": "markdown",
   "metadata": {},
   "source": [
    "#### Manipulando Arquivos em Python"
   ]
  },
  {
   "cell_type": "markdown",
   "metadata": {},
   "source": [
    "!! Importante sempre utilizar __open()__ para abrir e não esquecer de utilizar __close()__ para finalizar:\n",
    "\n",
    "```python\n",
    "file = open('example.txt', 'r')\n",
    "# ... Operações com o arquivo\n",
    "file.close()\n",
    "```"
   ]
  },
  {
   "cell_type": "markdown",
   "metadata": {},
   "source": [
    "O mode de abertura pode ser `'r' -> ler` , `'w' -> escrever` ou `'a' -> anexar`:\n",
    "\n",
    "```python\n",
    "# Lendo um arquivo:\n",
    "file = open('example.txt', 'r')\n",
    "\n",
    "# Escrevendo em um arquivo:\n",
    "file = open('example.txt', 'w')\n",
    "\n",
    "# Anexando conteudo a um determinado arquivo\n",
    "file = open('example.txt', 'a')\n",
    "```"
   ]
  },
  {
   "cell_type": "markdown",
   "metadata": {},
   "source": [
    "* Leitura de arquivos .txt"
   ]
  },
  {
   "cell_type": "code",
   "execution_count": 88,
   "metadata": {},
   "outputs": [
    {
     "name": "stdout",
     "output_type": "stream",
     "text": [
      "O que Ã© Lorem Ipsum?\n",
      "Lorem Ipsum Ã© simplesmente uma simulaÃ§Ã£o de texto da indÃºstria tipogrÃ¡fica e de impressos, e vem sendo utilizado desde o sÃ©culo XVI, quando um impressor desconhecido pegou uma bandeja de tipos e os embaralhou para fazer um livro de modelos de tipos. Lorem Ipsum sobreviveu nÃ£o sÃ³ a cinco sÃ©culos, como tambÃ©m ao salto para a editoraÃ§Ã£o eletrÃ´nica, permanecendo essencialmente inalterado. Se popularizou na dÃ©cada de 60, quando a Letraset lanÃ§ou decalques contendo passagens de Lorem Ipsum, e mais recentemente quando passou a ser integrado a softwares de editoraÃ§Ã£o eletrÃ´nica como Aldus PageMaker.\n"
     ]
    }
   ],
   "source": [
    "# Com read\n",
    "arquivo = open('arquivos_adicionais/lorem.txt', 'r')\n",
    "\n",
    "print(arquivo.read())\n",
    "\n",
    "arquivo.close()"
   ]
  },
  {
   "cell_type": "code",
   "execution_count": 89,
   "metadata": {},
   "outputs": [
    {
     "name": "stdout",
     "output_type": "stream",
     "text": [
      "O que Ã© Lorem Ipsum?\n",
      "\n",
      "Lorem Ipsum Ã© simplesmente uma simulaÃ§Ã£o de texto da indÃºstria tipogrÃ¡fica e de impressos, e vem sendo utilizado desde o sÃ©culo XVI, quando um impressor desconhecido pegou uma bandeja de tipos e os embaralhou para fazer um livro de modelos de tipos. Lorem Ipsum sobreviveu nÃ£o sÃ³ a cinco sÃ©culos, como tambÃ©m ao salto para a editoraÃ§Ã£o eletrÃ´nica, permanecendo essencialmente inalterado. Se popularizou na dÃ©cada de 60, quando a Letraset lanÃ§ou decalques contendo passagens de Lorem Ipsum, e mais recentemente quando passou a ser integrado a softwares de editoraÃ§Ã£o eletrÃ´nica como Aldus PageMaker.\n",
      "\n",
      "O que Ã© Lorem Ipsum?\n",
      "\n",
      "Lorem Ipsum Ã© simplesmente uma simulaÃ§Ã£o de texto da indÃºstria tipogrÃ¡fica e de impressos, e vem sendo utilizado desde o sÃ©culo XVI, quando um impressor desconhecido pegou uma bandeja de tipos e os embaralhou para fazer um livro de modelos de tipos. Lorem Ipsum sobreviveu nÃ£o sÃ³ a cinco sÃ©culos, como tambÃ©m ao salto para a editoraÃ§Ã£o eletrÃ´nica, permanecendo essencialmente inalterado. Se popularizou na dÃ©cada de 60, quando a Letraset lanÃ§ou decalques contendo passagens de Lorem Ipsum, e mais recentemente quando passou a ser integrado a softwares de editoraÃ§Ã£o eletrÃ´nica como Aldus PageMaker.\n"
     ]
    }
   ],
   "source": [
    "# Com readline\n",
    "arquivo = open('arquivos_adicionais/lorem.txt', 'r')\n",
    "\n",
    "print(arquivo.readline())\n",
    "print(arquivo.readline())\n",
    "print(arquivo.readline())\n",
    "\n",
    "arquivo.close()\n",
    "\n",
    "# Melhor forma de executar readline\n",
    "arquivo = open('arquivos_adicionais/lorem.txt', 'r')\n",
    "\n",
    "while len(linha := arquivo.readline()):\n",
    "    print(linha)\n",
    "\n",
    "arquivo.close()"
   ]
  },
  {
   "cell_type": "markdown",
   "metadata": {},
   "source": [
    "* Escrevendo em arquivos"
   ]
  },
  {
   "cell_type": "code",
   "execution_count": 94,
   "metadata": {},
   "outputs": [],
   "source": [
    "arquivo = open('arquivos_adicionais/teste.txt', 'w')\n",
    "\n",
    "arquivo.write('Escrevendo dados em um novo arquivo.')\n",
    "arquivo.writelines(['\\n','escrevendo','\\n', 'um','\\n', 'novo','\\n', 'texto','\\n'])\n",
    "arquivo.close()"
   ]
  },
  {
   "cell_type": "markdown",
   "metadata": {},
   "source": [
    "* Gerenciando arquivos e diretorios"
   ]
  },
  {
   "cell_type": "markdown",
   "metadata": {
    "vscode": {
     "languageId": "shellscript"
    }
   },
   "source": [
    "import os\n",
    "import shutil\n",
    "from pathlib import Path\n",
    "\n",
    "```python\n",
    "# Localizando a pasta do arquivo atual\n",
    "ROOT_PATH = Path(__file__).parent\n",
    "\n",
    "# Criando Diretorio\n",
    "os.mkdir(ROOT_PATH / \"novo-diretorio\")\n",
    "# Criando arquivo no diretorio\n",
    "arquivo = open(ROOT_PATH / \"novo.txt\", \"w\")\n",
    "arquivo.close()\n",
    "# Renomenado o diretorio\n",
    "os.rename(ROOT_PATH / \"novo.txt\", ROOT_PATH / \"alterado.txt\")\n",
    "# Removendo o diretorio\n",
    "os.remove(ROOT_PATH / \"alterado.txt\")\n",
    "# Movendo o diretorio\n",
    "shutil.move(ROOT_PATH / \"novo.txt\", ROOT_PATH / \"novo-diretorio\" / \"novo.txt\")\n",
    "```"
   ]
  },
  {
   "cell_type": "markdown",
   "metadata": {},
   "source": [
    "* Tratando erros da manipulação de arquivos:\n",
    "```python\n",
    "\n",
    "from pathlib import Path\n",
    "\n",
    "ROOT_PATH = Path(__file__).parent\n",
    "\n",
    "\n",
    "try:\n",
    "    arquivo = open(ROOT_PATH / \"novo-diretorio\" / \"novo.txt\", \"r\")\n",
    "except FileNotFoundError as exc:\n",
    "    print(\"Arquivo não encontrado!\")\n",
    "    print(exc)\n",
    "except IsADirectoryError as exc:\n",
    "    print(f\"Não foi possível abrir o arquivo: {exc}\")\n",
    "except IOError as exc:\n",
    "    print(f\"Erro ao abrir o arquivo: {exc}\")\n",
    "except Exception as exc:\n",
    "    print(f\"Algum problema ocorreu ao tentar abrir o arquivo: {exc}\")\n",
    "\n",
    "\n",
    "# try:\n",
    "#     arquivo = open(ROOT_PATH / \"novo-diretorio\")\n",
    "# except IsADirectoryError as exc:\n",
    "#     print(f\"Não foi possível abrir o arquivo: {exc}\")\n",
    "```"
   ]
  },
  {
   "cell_type": "markdown",
   "metadata": {},
   "source": [
    "* Boas práticas"
   ]
  },
  {
   "cell_type": "markdown",
   "metadata": {},
   "source": [
    "` Utilizar with para fechar o arquivo automaticamente`\n",
    "```python\n",
    "from pathlib import Path\n",
    "\n",
    "\n",
    "ROOT_PATH = Path(__file__).parent\n",
    "\n",
    "with open(ROOT_PATH / 'lorem.txt', 'r') as arquivo:\n",
    "    1 / 0\n",
    "\n",
    "print(arquivo.read())\n",
    "```\n",
    "\n",
    "\n"
   ]
  },
  {
   "cell_type": "markdown",
   "metadata": {},
   "source": [
    "`Tratamento de erros`\n",
    "```python\n",
    "from pathlib import Path\n",
    "\n",
    "ROOT_PATH = Path(__file__).parent\n",
    "\n",
    "try:\n",
    "    with open(ROOT_PATH / 'lorem.txt', 'r') as arquivo:\n",
    "        print(arquivo.read())\n",
    "except IOError as exc:\n",
    "    print(f'Erro ao abrir o arquivo {exc}')\n",
    "\n",
    "```"
   ]
  },
  {
   "cell_type": "markdown",
   "metadata": {},
   "source": [
    "`Utilize a codificação`\n",
    "\n",
    "```python\n",
    "with open('arquivo.txt', 'r', encoding='utf-8') as arquivo:\n",
    "    # Operações de leitura com codificação UTF-8\n",
    "\n",
    "with open('arquivo.txt', 'w', encoding='utf-8') as arquivo:\n",
    "    # Operações de escrita com codificação UTF-8\n",
    "```"
   ]
  },
  {
   "cell_type": "code",
   "execution_count": null,
   "metadata": {},
   "outputs": [],
   "source": []
  },
  {
   "cell_type": "markdown",
   "metadata": {},
   "source": []
  }
 ],
 "metadata": {
  "kernelspec": {
   "display_name": "Python 3",
   "language": "python",
   "name": "python3"
  },
  "language_info": {
   "codemirror_mode": {
    "name": "ipython",
    "version": 3
   },
   "file_extension": ".py",
   "mimetype": "text/x-python",
   "name": "python",
   "nbconvert_exporter": "python",
   "pygments_lexer": "ipython3",
   "version": "3.11.1"
  }
 },
 "nbformat": 4,
 "nbformat_minor": 2
}
