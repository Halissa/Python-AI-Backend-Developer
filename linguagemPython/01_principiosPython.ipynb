{
 "cells": [
  {
   "cell_type": "markdown",
   "metadata": {},
   "source": [
    "### Principios básicos de python:"
   ]
  },
  {
   "cell_type": "markdown",
   "metadata": {},
   "source": [
    "#### Tipos Primitivos:"
   ]
  },
  {
   "cell_type": "markdown",
   "metadata": {},
   "source": [
    "    int - integer\n",
    "    float - float\n",
    "    bool - booleans\n",
    "    str - string"
   ]
  },
  {
   "cell_type": "markdown",
   "metadata": {},
   "source": [
    "#### Operadores"
   ]
  },
  {
   "cell_type": "markdown",
   "metadata": {},
   "source": [
    "##### Operadores por precedência:"
   ]
  },
  {
   "cell_type": "markdown",
   "metadata": {},
   "source": [
    "| Nível    | Categoria     | Operadores    |\n",
    "| ------- | ------------ | ------- |\n",
    "| *7 (mais alto)* | **exponenciação** | `**` | \n",
    "|*6*|**multiplicação**|`*, /, //, %`|\n",
    "|*5*|**adição**|`+, -`|\n",
    "|*4*|**relacional ou comparação**|`==, !=, <=, >=, >, <`|\n",
    "|*3*|**lógico**|`not`|\n",
    "|*2*|**lógico**|`and`|\n",
    "|*1 (mais baixo)*|**lógico**|`or`|"
   ]
  },
  {
   "cell_type": "markdown",
   "metadata": {},
   "source": [
    "##### Operadores de identidade:"
   ]
  },
  {
   "cell_type": "markdown",
   "metadata": {},
   "source": [
    "Compara se dois objetos estão na mesma posição de memória\n",
    "* is\n",
    "* is not"
   ]
  },
  {
   "cell_type": "code",
   "execution_count": 1,
   "metadata": {},
   "outputs": [
    {
     "name": "stdout",
     "output_type": "stream",
     "text": [
      "True\n",
      "False\n",
      "True\n"
     ]
    }
   ],
   "source": [
    "curso = 'Curso de Python'\n",
    "nome_curso = curso\n",
    "saldo, limite = 200, 200\n",
    "\n",
    "print(curso is nome_curso)\n",
    "print(curso is not nome_curso)\n",
    "print(saldo is limite)"
   ]
  },
  {
   "cell_type": "markdown",
   "metadata": {},
   "source": [
    "##### Operadores de associação:"
   ]
  },
  {
   "cell_type": "markdown",
   "metadata": {},
   "source": [
    "Verifica se um objeto pertence a uma sequencia:\n",
    "* in\n",
    "* not in"
   ]
  },
  {
   "cell_type": "code",
   "execution_count": 2,
   "metadata": {},
   "outputs": [
    {
     "name": "stdout",
     "output_type": "stream",
     "text": [
      "True\n",
      "True\n",
      "False\n"
     ]
    }
   ],
   "source": [
    "curso = 'Curso de Python'\n",
    "frutas = ['laranja', 'uva', 'limão']\n",
    "saques = [1500, 100]\n",
    "\n",
    "print('Python' in curso)\n",
    "print('maça' not in frutas)\n",
    "print(200 in saques)"
   ]
  },
  {
   "cell_type": "markdown",
   "metadata": {},
   "source": [
    "##### Operadores de atribuição:"
   ]
  },
  {
   "cell_type": "markdown",
   "metadata": {},
   "source": [
    "* = : atribuição simples\n",
    "* += : atribuição com adição\n",
    "* -= : atribuição com subtração\n",
    "* *= : atribuição com multiplicação\n",
    "* /= : atribuição com divisão\n",
    "* //= : atribuição com divisão sem resto\n",
    "* %= : atribuição com módulo\n",
    "* **= : atribuição com exponenciação"
   ]
  },
  {
   "cell_type": "code",
   "execution_count": 3,
   "metadata": {},
   "outputs": [
    {
     "name": "stdout",
     "output_type": "stream",
     "text": [
      "1, 2, 3, 4\n"
     ]
    }
   ],
   "source": [
    "# Atribuição de valores simplificada\n",
    "a, b, c, d = 1, 2, 3, 4\n",
    "print(f'{a}, {b}, {c}, {d}')"
   ]
  },
  {
   "cell_type": "code",
   "execution_count": 4,
   "metadata": {},
   "outputs": [
    {
     "name": "stdout",
     "output_type": "stream",
     "text": [
      "a = 20, b = 10\n"
     ]
    }
   ],
   "source": [
    "# Troca de valores de forma simplificada\n",
    "a = 10\n",
    "b = 20\n",
    "a, b = b, a\n",
    "\n",
    "print(f'a = {a}, b = {b}')"
   ]
  },
  {
   "cell_type": "markdown",
   "metadata": {},
   "source": [
    "##### Outros:"
   ]
  },
  {
   "cell_type": "markdown",
   "metadata": {},
   "source": [
    "    ** - potenciação\n",
    "    // - divisão inteira\n",
    "    # - comentários"
   ]
  },
  {
   "cell_type": "markdown",
   "metadata": {},
   "source": [
    "#### Estruturas condicionais:"
   ]
  },
  {
   "cell_type": "markdown",
   "metadata": {},
   "source": [
    "Estrutura:\n",
    "\n",
    "```python\n",
    "    if condicao:\n",
    "        comando1\n",
    "        comando2\n",
    "    elif condicao:\n",
    "        comando1\n",
    "        comando2\n",
    "    else:\n",
    "        comando1\n",
    "        comando2\n",
    "```"
   ]
  },
  {
   "cell_type": "code",
   "execution_count": 5,
   "metadata": {},
   "outputs": [
    {
     "name": "stdout",
     "output_type": "stream",
     "text": [
      "obesidade\n"
     ]
    }
   ],
   "source": [
    "# Utilizamos if elif e else para validar em qual categoria o imc de 34 \n",
    "#se encontra\n",
    "imc = 34\n",
    "\n",
    "\n",
    "if imc < 18.5:\n",
    "    status = 'abaixo do peso'\n",
    "elif imc < 25:\n",
    "    status = 'peso ideal'\n",
    "elif imc < 30:\n",
    "    status = 'sobrepeso'\n",
    "elif imc < 40:\n",
    "    status = 'obesidade'\n",
    "else:\n",
    "    status = 'obesidade mórbida'\n",
    "\n",
    "\n",
    "print(status)"
   ]
  },
  {
   "cell_type": "code",
   "execution_count": 6,
   "metadata": {},
   "outputs": [
    {
     "name": "stdout",
     "output_type": "stream",
     "text": [
      "False\n",
      "False\n",
      "True\n"
     ]
    }
   ],
   "source": [
    "# Comparação simplifica \n",
    "\n",
    "num1 = 1\n",
    "num2 = 2\n",
    "num3 = 3\n",
    "\n",
    "print(num1 > num2 > num3)\n",
    "print(num2 > num3 > num1)\n",
    "print(num3 > num2 > num1)"
   ]
  },
  {
   "cell_type": "markdown",
   "metadata": {},
   "source": [
    "#### Estruturas de repetição:"
   ]
  },
  {
   "cell_type": "markdown",
   "metadata": {},
   "source": [
    "##### While:"
   ]
  },
  {
   "cell_type": "markdown",
   "metadata": {},
   "source": [
    "```python\n",
    "    while condicao:\n",
    "        acao\n",
    "        acao\n",
    "        incremento or decremento += valor a alterar\n",
    "```\n"
   ]
  },
  {
   "cell_type": "code",
   "execution_count": 31,
   "metadata": {},
   "outputs": [
    {
     "name": "stdout",
     "output_type": "stream",
     "text": [
      "0, 1, 2, 3, 4, 5, 6, 7, 8, 9, 10, "
     ]
    }
   ],
   "source": [
    "# enquanto num for menor ou igual a 10 repita:\n",
    "num = 0\n",
    "while num <= 10:\n",
    "    print(num, end=', ')\n",
    "    num += 1"
   ]
  },
  {
   "cell_type": "code",
   "execution_count": 30,
   "metadata": {},
   "outputs": [
    {
     "name": "stdout",
     "output_type": "stream",
     "text": [
      "0, 1, 2, 3, 4, 5, 6, 7, 8, 9, 10, "
     ]
    }
   ],
   "source": [
    "# While utilizando break:\n",
    "num = 0\n",
    "\n",
    "while True:\n",
    "    print(num, end=', ')\n",
    "    if num == 10:\n",
    "        break \n",
    "    num += 1"
   ]
  },
  {
   "cell_type": "code",
   "execution_count": 29,
   "metadata": {},
   "outputs": [
    {
     "name": "stdout",
     "output_type": "stream",
     "text": [
      "1, 3, 5, 7, 9, "
     ]
    }
   ],
   "source": [
    "# While utilizando continue:\n",
    "num = 0\n",
    "\n",
    "#imprime somente numeros impares de 0 a 10:\n",
    "while num <= 10:\n",
    "    if num % 2 == 0:\n",
    "        num += 1\n",
    "        continue \n",
    "    print(num, end=', ')\n",
    "    num += 1"
   ]
  },
  {
   "cell_type": "markdown",
   "metadata": {},
   "source": [
    "##### For:"
   ]
  },
  {
   "cell_type": "markdown",
   "metadata": {},
   "source": [
    "```python\n",
    "    for nome in range(de, até -1, incremento):\n",
    "        acao\n",
    "```\n"
   ]
  },
  {
   "cell_type": "code",
   "execution_count": 28,
   "metadata": {},
   "outputs": [
    {
     "name": "stdout",
     "output_type": "stream",
     "text": [
      "0, 1, 2, 3, 4, 5, 6, 7, 8, 9, 10, "
     ]
    }
   ],
   "source": [
    "for num in range(0, 11, 1):\n",
    "    print(num, end=', ')"
   ]
  },
  {
   "cell_type": "markdown",
   "metadata": {},
   "source": [
    "###### Segue 3 exemplos de execução"
   ]
  },
  {
   "cell_type": "code",
   "execution_count": 27,
   "metadata": {},
   "outputs": [
    {
     "name": "stdout",
     "output_type": "stream",
     "text": [
      "5, 7, 9, 11, 13, 15, 17, 19, "
     ]
    }
   ],
   "source": [
    "# Exemplo 1:\n",
    "for num in range(5, 21, 2):\n",
    "    print(num, end=', ')"
   ]
  },
  {
   "cell_type": "code",
   "execution_count": 26,
   "metadata": {},
   "outputs": [
    {
     "name": "stdout",
     "output_type": "stream",
     "text": [
      "5, 6, 7, 8, 9, 10, "
     ]
    }
   ],
   "source": [
    "# Exemplo 2:\n",
    "for num in range(5, 11, 1):\n",
    "    print(num, end=', ')"
   ]
  },
  {
   "cell_type": "code",
   "execution_count": 32,
   "metadata": {},
   "outputs": [
    {
     "name": "stdout",
     "output_type": "stream",
     "text": [
      "10, 8, 6, 4, 2, 0, "
     ]
    }
   ],
   "source": [
    "# Exemplo 3:\n",
    "for num in range(10, -1, -2):\n",
    "    print(num, end=', ')"
   ]
  },
  {
   "cell_type": "markdown",
   "metadata": {},
   "source": [
    "###### For em textos:"
   ]
  },
  {
   "cell_type": "code",
   "execution_count": 23,
   "metadata": {},
   "outputs": [
    {
     "name": "stdout",
     "output_type": "stream",
     "text": [
      "A, U, E, E, "
     ]
    }
   ],
   "source": [
    "texto = input('Informe um texto').upper()\n",
    "VOGAIS = 'AEIOU'\n",
    "\n",
    "for letra in texto:\n",
    "    if letra in VOGAIS:\n",
    "        print(letra, end=', ')"
   ]
  }
 ],
 "metadata": {
  "kernelspec": {
   "display_name": "Python 3",
   "language": "python",
   "name": "python3"
  },
  "language_info": {
   "codemirror_mode": {
    "name": "ipython",
    "version": 3
   },
   "file_extension": ".py",
   "mimetype": "text/x-python",
   "name": "python",
   "nbconvert_exporter": "python",
   "pygments_lexer": "ipython3",
   "version": "3.11.1"
  }
 },
 "nbformat": 4,
 "nbformat_minor": 2
}
