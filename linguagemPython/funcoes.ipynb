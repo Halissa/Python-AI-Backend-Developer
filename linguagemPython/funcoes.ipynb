{
 "cells": [
  {
   "cell_type": "markdown",
   "metadata": {},
   "source": [
    "### Funções:"
   ]
  },
  {
   "cell_type": "markdown",
   "metadata": {},
   "source": [
    "* Exemplo de declaração de funções:\n",
    "\n",
    "```python\n",
    "def nome_da_funcao(parametro1, parametro2):\n",
    "    ação 01\n",
    "    ação 02\n",
    "    return valor_de_retorno\n",
    "```"
   ]
  },
  {
   "cell_type": "code",
   "execution_count": 5,
   "metadata": {},
   "outputs": [
    {
     "name": "stdout",
     "output_type": "stream",
     "text": [
      "Ola mundo!\n",
      "Seja bem vindo(a) Ana\n",
      "Seja bem vindo(a) Anônimo\n",
      "Seja bem vindo(a) Paula\n"
     ]
    }
   ],
   "source": [
    "def exibir_mensagem():\n",
    "    print('Ola mundo!')\n",
    "\n",
    "def exibir_mensagem_2(nome):\n",
    "    print(f'Seja bem vindo(a) {nome}')\n",
    "\n",
    "def exibir_mensagem_3(nome='Anônimo'):\n",
    "    print(f'Seja bem vindo(a) {nome}')\n",
    "\n",
    "def exibir_mensagem_4(nome='Anônimo'):\n",
    "    return f'Seja bem vindo(a) {nome}'\n",
    "\n",
    "exibir_mensagem()\n",
    "exibir_mensagem_2(nome='Ana')\n",
    "exibir_mensagem_3()\n",
    "print(exibir_mensagem_4('Paula'))"
   ]
  },
  {
   "cell_type": "markdown",
   "metadata": {},
   "source": [
    "* Return: Por padrão a função retorna None, mas podemos retornar outros valores:"
   ]
  },
  {
   "cell_type": "code",
   "execution_count": 6,
   "metadata": {},
   "outputs": [
    {
     "data": {
      "text/plain": [
       "15"
      ]
     },
     "execution_count": 6,
     "metadata": {},
     "output_type": "execute_result"
    }
   ],
   "source": [
    "def somar_nums(numeros):\n",
    "    return sum(numeros)\n",
    "\n",
    "somar_nums([1, 2, 3, 4, 5])"
   ]
  },
  {
   "cell_type": "code",
   "execution_count": 7,
   "metadata": {},
   "outputs": [
    {
     "data": {
      "text/plain": [
       "(1, 3)"
      ]
     },
     "execution_count": 7,
     "metadata": {},
     "output_type": "execute_result"
    }
   ],
   "source": [
    "def antecessor_sucessor(numero):\n",
    "    antecessor = numero - 1\n",
    "    sucessor = numero +1\n",
    "\n",
    "    return antecessor, sucessor\n",
    "\n",
    "antecessor_sucessor(2)"
   ]
  },
  {
   "cell_type": "markdown",
   "metadata": {},
   "source": [
    "* Argumentos nomeados do tipo chave valor:"
   ]
  },
  {
   "cell_type": "code",
   "execution_count": 10,
   "metadata": {},
   "outputs": [
    {
     "name": "stdout",
     "output_type": "stream",
     "text": [
      "Salvo com sucesso!\n",
      "Fiat/Palio/1999/ABC-1234\n",
      "\n",
      "Salvo com sucesso!\n",
      "Fiat/Palio/1999/ABC-1234\n",
      "\n",
      "Salvo com sucesso!\n",
      "Fiat/Palio/1999/ABC-1234\n",
      "\n"
     ]
    }
   ],
   "source": [
    "def dados_carro(marca, modelo, ano, placa):\n",
    "    print(f'Salvo com sucesso!\\n{marca}/{modelo}/{ano}/{placa}\\n')\n",
    "\n",
    "\n",
    "dados_carro('Fiat', 'Palio', 1999, 'ABC-1234')\n",
    "\n",
    "dados_carro(marca='Fiat', modelo='Palio', ano=1999, placa='ABC-1234')\n",
    "\n",
    "dados_carro(**{'marca':'Fiat', 'modelo':'Palio', 'ano':1999, 'placa':'ABC-1234'})\n"
   ]
  },
  {
   "cell_type": "markdown",
   "metadata": {},
   "source": [
    "* Args e Kwags: Utilizamos para passar vários argumentos de uma unica vez.\n",
    " - *args -> armazena os argumentos em uma tupla \n",
    " - **kwargs -> permite passar um dicionário com várias chaves e valores para a função"
   ]
  },
  {
   "cell_type": "code",
   "execution_count": 14,
   "metadata": {},
   "outputs": [
    {
     "name": "stdout",
     "output_type": "stream",
     "text": [
      "15\n"
     ]
    }
   ],
   "source": [
    "#exemplo args:\n",
    "def somar(*args):\n",
    "    soma = 0\n",
    "    for numero in args:\n",
    "        soma += numero\n",
    "    \n",
    "    print(soma)\n",
    "\n",
    "somar(1, 2, 3, 4, 5)\n"
   ]
  },
  {
   "cell_type": "code",
   "execution_count": 17,
   "metadata": {},
   "outputs": [
    {
     "name": "stdout",
     "output_type": "stream",
     "text": [
      "nome: Ana\n",
      "idade: 29\n",
      "telefone: 99999-9999\n"
     ]
    }
   ],
   "source": [
    "#exemplo kwargs:\n",
    "def cadastro (**kwargs):\n",
    "    for chave, valor in kwargs.items():\n",
    "        print(f'{chave}: {valor}')\n",
    "\n",
    "\n",
    "cadastro(nome='Ana', idade=29, telefone='99999-9999')"
   ]
  }
 ],
 "metadata": {
  "kernelspec": {
   "display_name": "Python 3",
   "language": "python",
   "name": "python3"
  },
  "language_info": {
   "codemirror_mode": {
    "name": "ipython",
    "version": 3
   },
   "file_extension": ".py",
   "mimetype": "text/x-python",
   "name": "python",
   "nbconvert_exporter": "python",
   "pygments_lexer": "ipython3",
   "version": "3.11.1"
  }
 },
 "nbformat": 4,
 "nbformat_minor": 2
}
