{
 "cells": [
  {
   "cell_type": "markdown",
   "metadata": {},
   "source": [
    "### Funções:"
   ]
  },
  {
   "cell_type": "markdown",
   "metadata": {},
   "source": [
    "* Exemplo de declaração de funções:\n",
    "\n",
    "```python\n",
    "def nome_da_funcao(parametro1, parametro2):\n",
    "    ação 01\n",
    "    ação 02\n",
    "    return valor_de_retorno\n",
    "```"
   ]
  },
  {
   "cell_type": "code",
   "execution_count": 23,
   "metadata": {},
   "outputs": [
    {
     "name": "stdout",
     "output_type": "stream",
     "text": [
      "Ola mundo!\n",
      "Seja bem vindo(a) Ana\n",
      "Seja bem vindo(a) Anônimo\n",
      "Seja bem vindo(a) Paula\n"
     ]
    }
   ],
   "source": [
    "def exibir_mensagem():\n",
    "    print('Ola mundo!')\n",
    "\n",
    "def exibir_mensagem_2(nome):\n",
    "    print(f'Seja bem vindo(a) {nome}')\n",
    "\n",
    "def exibir_mensagem_3(nome='Anônimo'):\n",
    "    print(f'Seja bem vindo(a) {nome}')\n",
    "\n",
    "def exibir_mensagem_4(nome='Anônimo'):\n",
    "    return f'Seja bem vindo(a) {nome}'\n",
    "\n",
    "exibir_mensagem()\n",
    "exibir_mensagem_2(nome='Ana')\n",
    "exibir_mensagem_3()\n",
    "print(exibir_mensagem_4('Paula'))"
   ]
  },
  {
   "cell_type": "markdown",
   "metadata": {},
   "source": [
    "* Return: Por padrão a função retorna None, mas podemos retornar outros valores:"
   ]
  },
  {
   "cell_type": "code",
   "execution_count": 24,
   "metadata": {},
   "outputs": [
    {
     "data": {
      "text/plain": [
       "15"
      ]
     },
     "execution_count": 24,
     "metadata": {},
     "output_type": "execute_result"
    }
   ],
   "source": [
    "def somar_nums(numeros):\n",
    "    return sum(numeros)\n",
    "\n",
    "somar_nums([1, 2, 3, 4, 5])"
   ]
  },
  {
   "cell_type": "code",
   "execution_count": 25,
   "metadata": {},
   "outputs": [
    {
     "data": {
      "text/plain": [
       "(1, 3)"
      ]
     },
     "execution_count": 25,
     "metadata": {},
     "output_type": "execute_result"
    }
   ],
   "source": [
    "def antecessor_sucessor(numero):\n",
    "    antecessor = numero - 1\n",
    "    sucessor = numero +1\n",
    "\n",
    "    return antecessor, sucessor\n",
    "\n",
    "antecessor_sucessor(2)"
   ]
  },
  {
   "cell_type": "markdown",
   "metadata": {},
   "source": [
    "* Argumentos nomeados do tipo chave valor:"
   ]
  },
  {
   "cell_type": "code",
   "execution_count": 28,
   "metadata": {},
   "outputs": [
    {
     "name": "stdout",
     "output_type": "stream",
     "text": [
      "Salvo com sucesso!\n",
      "Fiat/Palio/1999/ABC-1234\n",
      "\n",
      "Salvo com sucesso!\n",
      "Fiat/Palio/1999/ABC-1234\n",
      "\n",
      "Salvo com sucesso!\n",
      "Fiat/Palio/1999/ABC-1234\n",
      "\n"
     ]
    }
   ],
   "source": [
    "def dados_carro(marca, modelo, ano, placa):\n",
    "    print(f'Salvo com sucesso!\\n{marca}/{modelo}/{ano}/{placa}\\n')\n",
    "\n",
    "\n",
    "dados_carro('Fiat', 'Palio', 1999, 'ABC-1234')\n",
    "\n",
    "dados_carro(marca='Fiat', modelo='Palio', ano=1999, placa='ABC-1234')\n",
    "\n",
    "dados_carro(**{'marca':'Fiat', 'modelo':'Palio', 'ano':1999, 'placa':'ABC-1234'})\n"
   ]
  },
  {
   "cell_type": "markdown",
   "metadata": {},
   "source": [
    "* Args e Kwags: Utilizamos para passar vários argumentos de uma unica vez.\n",
    " - *args -> armazena os argumentos em uma tupla \n",
    " - **kwargs -> permite passar um dicionário com várias chaves e valores para a função"
   ]
  },
  {
   "cell_type": "code",
   "execution_count": 29,
   "metadata": {},
   "outputs": [
    {
     "name": "stdout",
     "output_type": "stream",
     "text": [
      "15\n"
     ]
    }
   ],
   "source": [
    "#exemplo args:\n",
    "def somar(*args):\n",
    "    soma = 0\n",
    "    for numero in args:\n",
    "        soma += numero\n",
    "    \n",
    "    print(soma)\n",
    "\n",
    "somar(1, 2, 3, 4, 5)\n"
   ]
  },
  {
   "cell_type": "code",
   "execution_count": 30,
   "metadata": {},
   "outputs": [
    {
     "name": "stdout",
     "output_type": "stream",
     "text": [
      "nome: Ana\n",
      "idade: 29\n",
      "telefone: 99999-9999\n"
     ]
    }
   ],
   "source": [
    "#exemplo kwargs:\n",
    "def cadastro (**kwargs):\n",
    "    for chave, valor in kwargs.items():\n",
    "        print(f'{chave}: {valor}')\n",
    "\n",
    "\n",
    "cadastro(nome='Ana', idade=29, telefone='99999-9999')"
   ]
  },
  {
   "cell_type": "markdown",
   "metadata": {},
   "source": [
    "* Parametros especiais: Usados para controlar como argumentos serão passados a uma função, podem ser por posição, palavra-chave (keyword) ou variados:\n",
    "\n",
    "```python\n",
    "def funcao(posicao1, posicao2, /, posicao, keywor, *, keyword, keyword):\n",
    "    acoes\n",
    "```"
   ]
  },
  {
   "cell_type": "code",
   "execution_count": 32,
   "metadata": {},
   "outputs": [
    {
     "name": "stdout",
     "output_type": "stream",
     "text": [
      "1 2 3 4 5 6\n",
      "1 2 3 4 5 6\n",
      "1 2 3 4 5 6\n"
     ]
    }
   ],
   "source": [
    "'''\n",
    "a e b são apenas de posição\n",
    "c e d podem ser de palavra-chave ou posição\n",
    "e e f são apenas de palavra-chave\n",
    "'''\n",
    "def parametros_variados(a, b, /, c, d, *, e, f):\n",
    "    print(a, b, c, d, e, f)\n",
    "\n",
    "\n",
    "'''\n",
    "Exemplos de utilização errada:\n",
    "parametros_variados(1, 2, 3, 4, 5, 6)\n",
    "parametros_variados(a=1, b=2, c=3, d=4, e=5, f=6)\n",
    "parametros_variados(1, 2, c=3, d4, e=5, f=6)\n",
    "'''\n",
    "\n",
    "#Exemplos de utilização correta\n",
    "parametros_variados(1, 2, c=3, d=4, e=5, f=6)\n",
    "parametros_variados(1, 2, 3, d=4, e=5, f=6)\n",
    "parametros_variados(1, 2, 3, 4, e=5, f=6)\n",
    "\n"
   ]
  },
  {
   "cell_type": "markdown",
   "metadata": {},
   "source": [
    "* Somente posição:"
   ]
  },
  {
   "cell_type": "code",
   "execution_count": 33,
   "metadata": {},
   "outputs": [
    {
     "name": "stdout",
     "output_type": "stream",
     "text": [
      "1 2 3\n"
     ]
    }
   ],
   "source": [
    "def somente_posicao(a, b, c, /):\n",
    "    print(a, b, c)\n",
    "\n",
    "'''\n",
    "Exemplos de utilização errada:\n",
    "somente_posicao(1, b=2, 3)\n",
    "somente_posicao(a=1, b=2, c=3)\n",
    "'''\n",
    "\n",
    "# Exemplo de utilização correta\n",
    "somente_posicao(1, 2, 3)"
   ]
  },
  {
   "cell_type": "markdown",
   "metadata": {},
   "source": [
    "* Somente por palavra-chave (keyword):"
   ]
  },
  {
   "cell_type": "code",
   "execution_count": 34,
   "metadata": {},
   "outputs": [
    {
     "name": "stdout",
     "output_type": "stream",
     "text": [
      "1 2 3\n"
     ]
    }
   ],
   "source": [
    "def somente_palavra_chave(*, g, h,i):\n",
    "    print(g, h, i)\n",
    "\n",
    "\n",
    "'''\n",
    "Exemplos de utilização errada:\n",
    "somente_palavra_chave(1, h=2, 3)\n",
    "somente_palavra_chave(1, h=2, i=3)\n",
    "somente_palavra_chave(1, 2, 3)\n",
    "'''\n",
    "\n",
    "\n",
    "# Exemplo de utilização correta\n",
    "somente_palavra_chave(g=1, h=2, i=3)"
   ]
  },
  {
   "cell_type": "markdown",
   "metadata": {},
   "source": [
    "* Palavra-chave e posição:\n"
   ]
  },
  {
   "cell_type": "code",
   "execution_count": 35,
   "metadata": {},
   "outputs": [
    {
     "data": {
      "text/plain": [
       "'\\nExemplos de utilização errada:\\npa\\n'"
      ]
     },
     "execution_count": 35,
     "metadata": {},
     "output_type": "execute_result"
    }
   ],
   "source": [
    "def palavra_chave_e_posicao(d, /, e, f):\n",
    "    print(d, e, f)\n",
    "\n",
    "\n",
    "'''\n",
    "Exemplos de utilização errada:\n",
    "pa\n",
    "'''\n",
    "\n",
    "# Exemplos de utilização correta:\n",
    "\n"
   ]
  }
 ],
 "metadata": {
  "kernelspec": {
   "display_name": "Python 3",
   "language": "python",
   "name": "python3"
  },
  "language_info": {
   "codemirror_mode": {
    "name": "ipython",
    "version": 3
   },
   "file_extension": ".py",
   "mimetype": "text/x-python",
   "name": "python",
   "nbconvert_exporter": "python",
   "pygments_lexer": "ipython3",
   "version": "3.11.1"
  }
 },
 "nbformat": 4,
 "nbformat_minor": 2
}
